{
 "cells": [
  {
   "cell_type": "code",
   "execution_count": 103,
   "metadata": {},
   "outputs": [],
   "source": [
    "import pandas as pd"
   ]
  },
  {
   "cell_type": "code",
   "execution_count": 104,
   "metadata": {},
   "outputs": [],
   "source": [
    "data = pd.read_csv('C:/Users/cookchr2/Documents/GitHub/byu_econ_applied_machine_learning/lasso.csv')"
   ]
  },
  {
   "cell_type": "code",
   "execution_count": 105,
   "metadata": {},
   "outputs": [
    {
     "data": {
      "text/plain": [
       "(189, 95)"
      ]
     },
     "execution_count": 105,
     "metadata": {},
     "output_type": "execute_result"
    }
   ],
   "source": [
    "data.shape"
   ]
  },
  {
   "cell_type": "code",
   "execution_count": 106,
   "metadata": {
    "scrolled": true
   },
   "outputs": [],
   "source": [
    "tdata = pd.DataFrame()\n",
    "for col in list(data):\n",
    "        tdata[col] = data[col]\n",
    "tdata['instability'] = data['instability']\n",
    "data = tdata\n",
    "data = data.dropna(axis=0,how='any')"
   ]
  },
  {
   "cell_type": "code",
   "execution_count": 107,
   "metadata": {},
   "outputs": [],
   "source": [
    "Y = data['instability']\n",
    "Y = (Y - Y.mean()) / Y.std()"
   ]
  },
  {
   "cell_type": "code",
   "execution_count": 108,
   "metadata": {},
   "outputs": [],
   "source": [
    "X = pd.DataFrame()\n",
    "for col in list(data):\n",
    "    if (data[col].dtype == 'float64' or data[col].dtype == 'int64') and col != 'instability':\n",
    "        X[col] = (data[col] - data[col].mean()) / data[col].std()"
   ]
  },
  {
   "cell_type": "code",
   "execution_count": 109,
   "metadata": {},
   "outputs": [],
   "source": [
    "from sklearn import linear_model\n",
    "from sklearn import model_selection\n",
    "X_train, X_test, y_train, y_test = model_selection.train_test_split(X,Y)"
   ]
  },
  {
   "cell_type": "code",
   "execution_count": 110,
   "metadata": {},
   "outputs": [],
   "source": [
    "lasso = linear_model.Lasso(alpha=0.01)"
   ]
  },
  {
   "cell_type": "code",
   "execution_count": 111,
   "metadata": {},
   "outputs": [
    {
     "data": {
      "text/plain": [
       "Lasso(alpha=0.01, copy_X=True, fit_intercept=True, max_iter=1000,\n",
       "   normalize=False, positive=False, precompute=False, random_state=None,\n",
       "   selection='cyclic', tol=0.0001, warm_start=False)"
      ]
     },
     "execution_count": 111,
     "metadata": {},
     "output_type": "execute_result"
    }
   ],
   "source": [
    "lasso.fit(X_train, y_train)"
   ]
  },
  {
   "cell_type": "code",
   "execution_count": 112,
   "metadata": {},
   "outputs": [
    {
     "data": {
      "text/plain": [
       "0.9976767320108281"
      ]
     },
     "execution_count": 112,
     "metadata": {},
     "output_type": "execute_result"
    }
   ],
   "source": [
    "lasso.score(X_test, y_test)"
   ]
  },
  {
   "cell_type": "code",
   "execution_count": 113,
   "metadata": {},
   "outputs": [
    {
     "data": {
      "text/plain": [
       "array([-0.        ,  0.8371925 ,  0.12207158, -0.        ,  0.        ,\n",
       "        0.00653699,  0.        ,  0.        ,  0.        ,  0.        ,\n",
       "        0.        ,  0.        ,  0.        ,  0.        ,  0.        ,\n",
       "        0.        ,  0.        ,  0.        ,  0.        ,  0.        ,\n",
       "        0.        ,  0.        ,  0.        ,  0.        ,  0.        ,\n",
       "        0.        ,  0.        ,  0.        ,  0.        ,  0.        ,\n",
       "        0.        ,  0.        ,  0.        ,  0.        ,  0.        ,\n",
       "        0.        ,  0.        ,  0.        ,  0.        ,  0.        ,\n",
       "        0.        ,  0.        ,  0.        ,  0.        ,  0.        ,\n",
       "        0.        ,  0.        ,  0.        ,  0.        ,  0.        ,\n",
       "        0.        ,  0.        ,  0.        ,  0.        ,  0.        ,\n",
       "        0.        ,  0.        ,  0.        ,  0.        ,  0.        ,\n",
       "        0.        ,  0.        ,  0.        ,  0.        ,  0.        ,\n",
       "        0.        ,  0.        ,  0.        ,  0.        ,  0.        ,\n",
       "        0.        ,  0.        ,  0.        ,  0.        ,  0.        ,\n",
       "        0.        ,  0.        ,  0.        ,  0.        ,  0.        ,\n",
       "        0.        ,  0.        ,  0.        ,  0.        ,  0.        ,\n",
       "        0.        ,  0.        ,  0.        ,  0.        ,  0.        ,\n",
       "        0.        ])"
      ]
     },
     "execution_count": 113,
     "metadata": {},
     "output_type": "execute_result"
    }
   ],
   "source": [
    "lasso.coef_"
   ]
  },
  {
   "cell_type": "code",
   "execution_count": 114,
   "metadata": {},
   "outputs": [
    {
     "data": {
      "text/plain": [
       "['Continent',\n",
       " 'pop75',\n",
       " 'pop09',\n",
       " 'gpop',\n",
       " 'k1975',\n",
       " 'k2009',\n",
       " 'kpw1975',\n",
       " 'kpw2009',\n",
       " 'hc1975',\n",
       " 'hc2009',\n",
       " 'rgdpwk1975',\n",
       " 'rgdpwk2009',\n",
       " 'rgdpch1960',\n",
       " 'rgdpch1965',\n",
       " 'rgdpch1970',\n",
       " 'rgdpch1975',\n",
       " 'rgdpch1980',\n",
       " 'rgdpch1985',\n",
       " 'rgdpch1990',\n",
       " 'rgdpch1995',\n",
       " 'rgdpch2000',\n",
       " 'rgdpch2005',\n",
       " 'rgdpch2006',\n",
       " 'rgdpch2007',\n",
       " 'rgdpch2008',\n",
       " 'rgdpch2009',\n",
       " 'gy7509',\n",
       " 'ki1975',\n",
       " 'ki2009',\n",
       " 'meanki',\n",
       " 'natsav09',\n",
       " 'grodomsav75',\n",
       " 'grodomsav09',\n",
       " 'govsp75',\n",
       " 'govsp09',\n",
       " 'privcap09',\n",
       " 'fdi09',\n",
       " 'imports75',\n",
       " 'imports09',\n",
       " 'trade75',\n",
       " 'trade09',\n",
       " 'openfrac',\n",
       " 'martax09',\n",
       " 'migration10',\n",
       " 'labfor75',\n",
       " 'labfor09',\n",
       " 'labpop75',\n",
       " 'labpop09',\n",
       " 'indgdp75',\n",
       " 'indgdp09',\n",
       " 'agrigdp75',\n",
       " 'agrigdp09',\n",
       " 'aggdpperagworker09',\n",
       " 'percemployagr10',\n",
       " 'natcap00',\n",
       " 'mindep09',\n",
       " 'endep09',\n",
       " 'fordep09',\n",
       " 'co2emm07',\n",
       " 'tfr75',\n",
       " 'tfr09',\n",
       " 'infmor09',\n",
       " 'malaria94',\n",
       " 'malariaecology',\n",
       " 'calories07',\n",
       " 'lifeex75',\n",
       " 'lifeex09',\n",
       " 'agedep75',\n",
       " 'agedep09',\n",
       " 'avgsch75',\n",
       " 'avgsch2010',\n",
       " 'collegeadultpop2010',\n",
       " 'compcollegeadultpop2010',\n",
       " 'avgyrsfemaleed',\n",
       " 'intuser09',\n",
       " 'tele09',\n",
       " 'cells09',\n",
       " 'comp05',\n",
       " 'gini09',\n",
       " 'topincsh09',\n",
       " 'botincsh09',\n",
       " 'ethnicfractionalization',\n",
       " 'rulelaw2009',\n",
       " 'corrcon09',\n",
       " 'polrights10',\n",
       " 'obedience',\n",
       " 'perseverance',\n",
       " 'faith',\n",
       " 'trust',\n",
       " 'latitude',\n",
       " 'area']"
      ]
     },
     "execution_count": 114,
     "metadata": {},
     "output_type": "execute_result"
    }
   ],
   "source": [
    "list(X)"
   ]
  },
  {
   "cell_type": "code",
   "execution_count": null,
   "metadata": {},
   "outputs": [],
   "source": []
  },
  {
   "cell_type": "code",
   "execution_count": 115,
   "metadata": {},
   "outputs": [],
   "source": [
    "linear = linear_model.LinearRegression()"
   ]
  },
  {
   "cell_type": "code",
   "execution_count": 116,
   "metadata": {},
   "outputs": [
    {
     "data": {
      "text/plain": [
       "LinearRegression(copy_X=True, fit_intercept=True, n_jobs=1, normalize=False)"
      ]
     },
     "execution_count": 116,
     "metadata": {},
     "output_type": "execute_result"
    }
   ],
   "source": [
    "linear.fit(X_train, y_train)"
   ]
  },
  {
   "cell_type": "code",
   "execution_count": 117,
   "metadata": {},
   "outputs": [
    {
     "data": {
      "text/plain": [
       "1.0"
      ]
     },
     "execution_count": 117,
     "metadata": {},
     "output_type": "execute_result"
    }
   ],
   "source": [
    "linear.score(X_test, y_test)"
   ]
  },
  {
   "cell_type": "code",
   "execution_count": 118,
   "metadata": {},
   "outputs": [
    {
     "data": {
      "text/plain": [
       "array([-6.58580424e-17,  1.24034124e-02,  3.33066907e-16,  2.55004351e-16,\n",
       "       -9.22301580e-04,  2.37657116e-16,  2.09090985e-02, -5.03126361e-03,\n",
       "       -1.21494129e-03, -1.45323840e-02, -4.31463606e-03, -1.21881344e-03,\n",
       "        1.96521339e-02,  2.04451954e-02,  2.72743364e-02,  1.86951974e-02,\n",
       "        2.14990582e-02,  1.21508241e-02,  1.21508241e-02,  1.21508241e-02,\n",
       "        1.21508241e-02,  1.21508241e-02,  1.21508241e-02,  1.21508241e-02,\n",
       "        1.21508241e-02,  1.21508241e-02,  1.21508241e-02,  1.21508241e-02,\n",
       "        1.21508241e-02,  1.21508241e-02, -2.15105711e-16,  1.21508241e-02,\n",
       "        1.21508241e-02,  1.21508241e-02,  1.21508241e-02,  1.21508241e-02,\n",
       "        1.21508241e-02,  1.21508241e-02,  1.21508241e-02,  1.21508241e-02,\n",
       "        1.21508241e-02,  1.21508241e-02,  1.21508241e-02,  1.21508241e-02,\n",
       "        1.21508241e-02,  1.21508241e-02,  1.21508241e-02,  1.21508241e-02,\n",
       "        1.21508241e-02,  1.21508241e-02,  1.21508241e-02,  1.21508241e-02,\n",
       "        1.19327395e-02,  1.19327395e-02,  1.21508241e-02,  1.21508241e-02,\n",
       "        1.21508241e-02,  1.21508241e-02,  1.21508241e-02,  1.21508241e-02,\n",
       "        1.21508241e-02,  1.21508241e-02,  1.21508241e-02,  1.21508241e-02,\n",
       "        1.21508241e-02,  1.21508241e-02,  1.21508241e-02,  1.21508241e-02,\n",
       "        1.21508241e-02,  1.21508241e-02,  1.21508241e-02,  1.21508241e-02,\n",
       "        1.21508241e-02,  1.21508241e-02,  1.21508241e-02,  1.21508241e-02,\n",
       "        1.21508241e-02,  1.21508241e-02,  1.21508241e-02,  1.21508241e-02,\n",
       "        1.21508241e-02,  1.21508241e-02,  1.21508241e-02,  1.21508241e-02,\n",
       "        1.21508241e-02,  1.21508241e-02,  1.21508241e-02,  1.21508241e-02,\n",
       "        1.21508241e-02,  1.21508241e-02,  1.19327395e-02])"
      ]
     },
     "execution_count": 118,
     "metadata": {},
     "output_type": "execute_result"
    }
   ],
   "source": [
    "linear.coef_"
   ]
  },
  {
   "cell_type": "code",
   "execution_count": null,
   "metadata": {},
   "outputs": [],
   "source": []
  },
  {
   "cell_type": "code",
   "execution_count": null,
   "metadata": {},
   "outputs": [],
   "source": [
    "X_train = "
   ]
  }
 ],
 "metadata": {
  "kernelspec": {
   "display_name": "Python 3",
   "language": "python",
   "name": "python3"
  },
  "language_info": {
   "codemirror_mode": {
    "name": "ipython",
    "version": 3
   },
   "file_extension": ".py",
   "mimetype": "text/x-python",
   "name": "python",
   "nbconvert_exporter": "python",
   "pygments_lexer": "ipython3",
   "version": "3.6.4"
  }
 },
 "nbformat": 4,
 "nbformat_minor": 2
}
