{
 "cells": [
  {
   "cell_type": "markdown",
   "metadata": {},
   "source": [
    "Hello, and welcome to the Titanic Homework!  \n",
    "\n",
    "Christopher Cook  Machine Learning\n",
    "\n",
    "Let's get started"
   ]
  },
  {
   "cell_type": "code",
   "execution_count": 2,
   "metadata": {
    "collapsed": true
   },
   "outputs": [],
   "source": [
    "#Import pandas and SKLearn stuff\n",
    "import pandas as pd\n",
    "from sklearn import ensemble\n",
    "from sklearn import linear_model\n",
    "from sklearn import model_selection"
   ]
  },
  {
   "cell_type": "markdown",
   "metadata": {},
   "source": [
    "Let's open the data and take a look"
   ]
  },
  {
   "cell_type": "code",
   "execution_count": 3,
   "metadata": {},
   "outputs": [],
   "source": [
    "#open data\n",
    "train = pd.read_csv('C:/users/Christopher Cook/Downloads/kaggle/trainti.csv')"
   ]
  },
  {
   "cell_type": "code",
   "execution_count": 3,
   "metadata": {
    "scrolled": true
   },
   "outputs": [
    {
     "data": {
      "text/html": [
       "<div>\n",
       "<style>\n",
       "    .dataframe thead tr:only-child th {\n",
       "        text-align: right;\n",
       "    }\n",
       "\n",
       "    .dataframe thead th {\n",
       "        text-align: left;\n",
       "    }\n",
       "\n",
       "    .dataframe tbody tr th {\n",
       "        vertical-align: top;\n",
       "    }\n",
       "</style>\n",
       "<table border=\"1\" class=\"dataframe\">\n",
       "  <thead>\n",
       "    <tr style=\"text-align: right;\">\n",
       "      <th></th>\n",
       "      <th>PassengerId</th>\n",
       "      <th>Survived</th>\n",
       "      <th>Pclass</th>\n",
       "      <th>Name</th>\n",
       "      <th>Sex</th>\n",
       "      <th>Age</th>\n",
       "      <th>SibSp</th>\n",
       "      <th>Parch</th>\n",
       "      <th>Ticket</th>\n",
       "      <th>Fare</th>\n",
       "      <th>Cabin</th>\n",
       "      <th>Embarked</th>\n",
       "    </tr>\n",
       "  </thead>\n",
       "  <tbody>\n",
       "    <tr>\n",
       "      <th>0</th>\n",
       "      <td>1</td>\n",
       "      <td>0</td>\n",
       "      <td>3</td>\n",
       "      <td>Braund, Mr. Owen Harris</td>\n",
       "      <td>male</td>\n",
       "      <td>22.0</td>\n",
       "      <td>1</td>\n",
       "      <td>0</td>\n",
       "      <td>A/5 21171</td>\n",
       "      <td>7.2500</td>\n",
       "      <td>NaN</td>\n",
       "      <td>S</td>\n",
       "    </tr>\n",
       "    <tr>\n",
       "      <th>1</th>\n",
       "      <td>2</td>\n",
       "      <td>1</td>\n",
       "      <td>1</td>\n",
       "      <td>Cumings, Mrs. John Bradley (Florence Briggs Th...</td>\n",
       "      <td>female</td>\n",
       "      <td>38.0</td>\n",
       "      <td>1</td>\n",
       "      <td>0</td>\n",
       "      <td>PC 17599</td>\n",
       "      <td>71.2833</td>\n",
       "      <td>C85</td>\n",
       "      <td>C</td>\n",
       "    </tr>\n",
       "    <tr>\n",
       "      <th>2</th>\n",
       "      <td>3</td>\n",
       "      <td>1</td>\n",
       "      <td>3</td>\n",
       "      <td>Heikkinen, Miss. Laina</td>\n",
       "      <td>female</td>\n",
       "      <td>26.0</td>\n",
       "      <td>0</td>\n",
       "      <td>0</td>\n",
       "      <td>STON/O2. 3101282</td>\n",
       "      <td>7.9250</td>\n",
       "      <td>NaN</td>\n",
       "      <td>S</td>\n",
       "    </tr>\n",
       "    <tr>\n",
       "      <th>3</th>\n",
       "      <td>4</td>\n",
       "      <td>1</td>\n",
       "      <td>1</td>\n",
       "      <td>Futrelle, Mrs. Jacques Heath (Lily May Peel)</td>\n",
       "      <td>female</td>\n",
       "      <td>35.0</td>\n",
       "      <td>1</td>\n",
       "      <td>0</td>\n",
       "      <td>113803</td>\n",
       "      <td>53.1000</td>\n",
       "      <td>C123</td>\n",
       "      <td>S</td>\n",
       "    </tr>\n",
       "    <tr>\n",
       "      <th>4</th>\n",
       "      <td>5</td>\n",
       "      <td>0</td>\n",
       "      <td>3</td>\n",
       "      <td>Allen, Mr. William Henry</td>\n",
       "      <td>male</td>\n",
       "      <td>35.0</td>\n",
       "      <td>0</td>\n",
       "      <td>0</td>\n",
       "      <td>373450</td>\n",
       "      <td>8.0500</td>\n",
       "      <td>NaN</td>\n",
       "      <td>S</td>\n",
       "    </tr>\n",
       "  </tbody>\n",
       "</table>\n",
       "</div>"
      ],
      "text/plain": [
       "   PassengerId  Survived  Pclass  \\\n",
       "0            1         0       3   \n",
       "1            2         1       1   \n",
       "2            3         1       3   \n",
       "3            4         1       1   \n",
       "4            5         0       3   \n",
       "\n",
       "                                                Name     Sex   Age  SibSp  \\\n",
       "0                            Braund, Mr. Owen Harris    male  22.0      1   \n",
       "1  Cumings, Mrs. John Bradley (Florence Briggs Th...  female  38.0      1   \n",
       "2                             Heikkinen, Miss. Laina  female  26.0      0   \n",
       "3       Futrelle, Mrs. Jacques Heath (Lily May Peel)  female  35.0      1   \n",
       "4                           Allen, Mr. William Henry    male  35.0      0   \n",
       "\n",
       "   Parch            Ticket     Fare Cabin Embarked  \n",
       "0      0         A/5 21171   7.2500   NaN        S  \n",
       "1      0          PC 17599  71.2833   C85        C  \n",
       "2      0  STON/O2. 3101282   7.9250   NaN        S  \n",
       "3      0            113803  53.1000  C123        S  \n",
       "4      0            373450   8.0500   NaN        S  "
      ]
     },
     "execution_count": 3,
     "metadata": {},
     "output_type": "execute_result"
    }
   ],
   "source": [
    "train.head(5)"
   ]
  },
  {
   "cell_type": "markdown",
   "metadata": {},
   "source": [
    "It looks like we can split up the cabin variable to get more information. The deck is the first letter and the room number is after it. Even numbers were on the right side of the ship so that might help predict as well."
   ]
  },
  {
   "cell_type": "code",
   "execution_count": 5,
   "metadata": {
    "collapsed": true
   },
   "outputs": [],
   "source": [
    "#We can use the cabin number to get a better estimate of survival (for those who have it) Even numbers are on the right side \n",
    "#which is the side that was hit. We can also learn which deck they were on.\n",
    "train['deck'] = train['Cabin'].astype(str).str[0]\n",
    "train['even'] = train['Cabin'].str.endswith('0') + train['Cabin'].str.endswith('2') + train['Cabin'].str.endswith('4') \\\n",
    "                + train['Cabin'].str.endswith('6') + train['Cabin'].str.endswith('8')\n",
    "train['number'] = train['Cabin'].astype(str).str[1:]\n",
    "train['number'] = pd.to_numeric(train['number'],errors='coerce')"
   ]
  },
  {
   "cell_type": "markdown",
   "metadata": {},
   "source": [
    "Great! I considered looking into the ticked number, but I don't think it's worth our time (as is the person's age). I don't think they would hold any predictive value. So, let's go and get rid of Nans and make dummies for class sex deck and embarkment place."
   ]
  },
  {
   "cell_type": "code",
   "execution_count": 6,
   "metadata": {
    "collapsed": true
   },
   "outputs": [],
   "source": [
    "#Let's fill in the nans, and make dummies. Since we're using a forest we don't have to be too careful about what values we \n",
    "train = train.fillna(value={'Pclass' : 0, 'Name' : \"UKN\", 'Sex' : \"U\", 'Age' : -1, 'SibSp' : -1, 'Parch' : -1, 'Fare' : -1, \\\n",
    "                    'Embarked' : \"Unk\", 'even' : -1, 'number' : -1})\n",
    "rdy_train = pd.get_dummies(train[['Pclass','Sex','Embarked','deck']])\n",
    "for name in ['Survived','Age','SibSp','Parch','Fare']:\n",
    "    rdy_train[name] = train[name]"
   ]
  },
  {
   "cell_type": "markdown",
   "metadata": {},
   "source": [
    "Let's take a peek to make sure everything looks good"
   ]
  },
  {
   "cell_type": "code",
   "execution_count": 7,
   "metadata": {},
   "outputs": [
    {
     "data": {
      "text/html": [
       "<div>\n",
       "<style>\n",
       "    .dataframe thead tr:only-child th {\n",
       "        text-align: right;\n",
       "    }\n",
       "\n",
       "    .dataframe thead th {\n",
       "        text-align: left;\n",
       "    }\n",
       "\n",
       "    .dataframe tbody tr th {\n",
       "        vertical-align: top;\n",
       "    }\n",
       "</style>\n",
       "<table border=\"1\" class=\"dataframe\">\n",
       "  <thead>\n",
       "    <tr style=\"text-align: right;\">\n",
       "      <th></th>\n",
       "      <th>Pclass</th>\n",
       "      <th>Sex_female</th>\n",
       "      <th>Sex_male</th>\n",
       "      <th>Embarked_C</th>\n",
       "      <th>Embarked_Q</th>\n",
       "      <th>Embarked_S</th>\n",
       "      <th>Embarked_Unk</th>\n",
       "      <th>deck_A</th>\n",
       "      <th>deck_B</th>\n",
       "      <th>deck_C</th>\n",
       "      <th>...</th>\n",
       "      <th>deck_E</th>\n",
       "      <th>deck_F</th>\n",
       "      <th>deck_G</th>\n",
       "      <th>deck_T</th>\n",
       "      <th>deck_n</th>\n",
       "      <th>Survived</th>\n",
       "      <th>Age</th>\n",
       "      <th>SibSp</th>\n",
       "      <th>Parch</th>\n",
       "      <th>Fare</th>\n",
       "    </tr>\n",
       "  </thead>\n",
       "  <tbody>\n",
       "    <tr>\n",
       "      <th>0</th>\n",
       "      <td>3</td>\n",
       "      <td>0</td>\n",
       "      <td>1</td>\n",
       "      <td>0</td>\n",
       "      <td>0</td>\n",
       "      <td>1</td>\n",
       "      <td>0</td>\n",
       "      <td>0</td>\n",
       "      <td>0</td>\n",
       "      <td>0</td>\n",
       "      <td>...</td>\n",
       "      <td>0</td>\n",
       "      <td>0</td>\n",
       "      <td>0</td>\n",
       "      <td>0</td>\n",
       "      <td>1</td>\n",
       "      <td>0</td>\n",
       "      <td>22.0</td>\n",
       "      <td>1</td>\n",
       "      <td>0</td>\n",
       "      <td>7.2500</td>\n",
       "    </tr>\n",
       "    <tr>\n",
       "      <th>1</th>\n",
       "      <td>1</td>\n",
       "      <td>1</td>\n",
       "      <td>0</td>\n",
       "      <td>1</td>\n",
       "      <td>0</td>\n",
       "      <td>0</td>\n",
       "      <td>0</td>\n",
       "      <td>0</td>\n",
       "      <td>0</td>\n",
       "      <td>1</td>\n",
       "      <td>...</td>\n",
       "      <td>0</td>\n",
       "      <td>0</td>\n",
       "      <td>0</td>\n",
       "      <td>0</td>\n",
       "      <td>0</td>\n",
       "      <td>1</td>\n",
       "      <td>38.0</td>\n",
       "      <td>1</td>\n",
       "      <td>0</td>\n",
       "      <td>71.2833</td>\n",
       "    </tr>\n",
       "    <tr>\n",
       "      <th>2</th>\n",
       "      <td>3</td>\n",
       "      <td>1</td>\n",
       "      <td>0</td>\n",
       "      <td>0</td>\n",
       "      <td>0</td>\n",
       "      <td>1</td>\n",
       "      <td>0</td>\n",
       "      <td>0</td>\n",
       "      <td>0</td>\n",
       "      <td>0</td>\n",
       "      <td>...</td>\n",
       "      <td>0</td>\n",
       "      <td>0</td>\n",
       "      <td>0</td>\n",
       "      <td>0</td>\n",
       "      <td>1</td>\n",
       "      <td>1</td>\n",
       "      <td>26.0</td>\n",
       "      <td>0</td>\n",
       "      <td>0</td>\n",
       "      <td>7.9250</td>\n",
       "    </tr>\n",
       "    <tr>\n",
       "      <th>3</th>\n",
       "      <td>1</td>\n",
       "      <td>1</td>\n",
       "      <td>0</td>\n",
       "      <td>0</td>\n",
       "      <td>0</td>\n",
       "      <td>1</td>\n",
       "      <td>0</td>\n",
       "      <td>0</td>\n",
       "      <td>0</td>\n",
       "      <td>1</td>\n",
       "      <td>...</td>\n",
       "      <td>0</td>\n",
       "      <td>0</td>\n",
       "      <td>0</td>\n",
       "      <td>0</td>\n",
       "      <td>0</td>\n",
       "      <td>1</td>\n",
       "      <td>35.0</td>\n",
       "      <td>1</td>\n",
       "      <td>0</td>\n",
       "      <td>53.1000</td>\n",
       "    </tr>\n",
       "    <tr>\n",
       "      <th>4</th>\n",
       "      <td>3</td>\n",
       "      <td>0</td>\n",
       "      <td>1</td>\n",
       "      <td>0</td>\n",
       "      <td>0</td>\n",
       "      <td>1</td>\n",
       "      <td>0</td>\n",
       "      <td>0</td>\n",
       "      <td>0</td>\n",
       "      <td>0</td>\n",
       "      <td>...</td>\n",
       "      <td>0</td>\n",
       "      <td>0</td>\n",
       "      <td>0</td>\n",
       "      <td>0</td>\n",
       "      <td>1</td>\n",
       "      <td>0</td>\n",
       "      <td>35.0</td>\n",
       "      <td>0</td>\n",
       "      <td>0</td>\n",
       "      <td>8.0500</td>\n",
       "    </tr>\n",
       "  </tbody>\n",
       "</table>\n",
       "<p>5 rows × 21 columns</p>\n",
       "</div>"
      ],
      "text/plain": [
       "   Pclass  Sex_female  Sex_male  Embarked_C  Embarked_Q  Embarked_S  \\\n",
       "0       3           0         1           0           0           1   \n",
       "1       1           1         0           1           0           0   \n",
       "2       3           1         0           0           0           1   \n",
       "3       1           1         0           0           0           1   \n",
       "4       3           0         1           0           0           1   \n",
       "\n",
       "   Embarked_Unk  deck_A  deck_B  deck_C   ...     deck_E  deck_F  deck_G  \\\n",
       "0             0       0       0       0   ...          0       0       0   \n",
       "1             0       0       0       1   ...          0       0       0   \n",
       "2             0       0       0       0   ...          0       0       0   \n",
       "3             0       0       0       1   ...          0       0       0   \n",
       "4             0       0       0       0   ...          0       0       0   \n",
       "\n",
       "   deck_T  deck_n  Survived   Age  SibSp  Parch     Fare  \n",
       "0       0       1         0  22.0      1      0   7.2500  \n",
       "1       0       0         1  38.0      1      0  71.2833  \n",
       "2       0       1         1  26.0      0      0   7.9250  \n",
       "3       0       0         1  35.0      1      0  53.1000  \n",
       "4       0       1         0  35.0      0      0   8.0500  \n",
       "\n",
       "[5 rows x 21 columns]"
      ]
     },
     "execution_count": 7,
     "metadata": {},
     "output_type": "execute_result"
    }
   ],
   "source": [
    "rdy_train.head()"
   ]
  },
  {
   "cell_type": "code",
   "execution_count": 8,
   "metadata": {},
   "outputs": [
    {
     "data": {
      "text/plain": [
       "['Pclass',\n",
       " 'Sex_female',\n",
       " 'Sex_male',\n",
       " 'Embarked_C',\n",
       " 'Embarked_Q',\n",
       " 'Embarked_S',\n",
       " 'Embarked_Unk',\n",
       " 'deck_A',\n",
       " 'deck_B',\n",
       " 'deck_C',\n",
       " 'deck_D',\n",
       " 'deck_E',\n",
       " 'deck_F',\n",
       " 'deck_G',\n",
       " 'deck_T',\n",
       " 'deck_n',\n",
       " 'Survived',\n",
       " 'Age',\n",
       " 'SibSp',\n",
       " 'Parch',\n",
       " 'Fare']"
      ]
     },
     "execution_count": 8,
     "metadata": {},
     "output_type": "execute_result"
    }
   ],
   "source": [
    "list(rdy_train)"
   ]
  },
  {
   "cell_type": "markdown",
   "metadata": {},
   "source": [
    "Yup! Looks great. Let's start training! We're going to start with OLS to get a baseline. (I know that if I were really interested in OLS I'd have made the data differently, but that doesn't have to stop us!)"
   ]
  },
  {
   "cell_type": "code",
   "execution_count": 9,
   "metadata": {
    "collapsed": true
   },
   "outputs": [],
   "source": [
    "#OK Let's split this into X and y and get started!\n",
    "X = rdy_train.drop(['Survived'], axis=1)\n",
    "y = rdy_train['Survived']\n",
    "#Though we will use the X and y later to train the submission model, we need a validation set\n",
    "Xtrain, Xtest, Ytrain, Ytest = model_selection.train_test_split(X,y,test_size = 0.2)"
   ]
  },
  {
   "cell_type": "code",
   "execution_count": 9,
   "metadata": {},
   "outputs": [
    {
     "data": {
      "text/plain": [
       "0.38802291217349999"
      ]
     },
     "execution_count": 9,
     "metadata": {},
     "output_type": "execute_result"
    }
   ],
   "source": [
    "#First we're going to run OLS to get a basline for our data.\n",
    "ols = linear_model.LinearRegression(normalize=True)\n",
    "ols.fit(Xtrain,Ytrain)\n",
    "ols.score(Xtest,Ytest)"
   ]
  },
  {
   "cell_type": "markdown",
   "metadata": {},
   "source": [
    "So that is a pretty horrible R^2. Let's get into some forests! We're going to do Random Forest first, and then an Adaboosted forest."
   ]
  },
  {
   "cell_type": "code",
   "execution_count": 10,
   "metadata": {},
   "outputs": [
    {
     "data": {
      "text/plain": [
       "0.79329608938547491"
      ]
     },
     "execution_count": 10,
     "metadata": {},
     "output_type": "execute_result"
    }
   ],
   "source": [
    "#OK let's do a random forest!\n",
    "rf = ensemble.RandomForestClassifier()\n",
    "gsf = model_selection.GridSearchCV(rf,{'n_estimators' : [1000], 'n_jobs' : [-1], \\\n",
    "                                       'max_depth' : [2,5,10], 'max_features' : [None, 'auto'] }, cv=7)\n",
    "gsf.fit(Xtrain,Ytrain)\n",
    "gsf.score(Xtest,Ytest)"
   ]
  },
  {
   "cell_type": "code",
   "execution_count": 11,
   "metadata": {},
   "outputs": [
    {
     "name": "stdout",
     "output_type": "stream",
     "text": [
      "{'max_depth': 5, 'max_features': 'auto', 'n_estimators': 1000, 'n_jobs': -1}\n",
      "0.845505617978\n"
     ]
    }
   ],
   "source": [
    "#Great! let's look at what hyperparameters we used\n",
    "print(gsf.best_params_)\n",
    "#Within sample accuracy\n",
    "print(gsf.score(Xtrain,Ytrain))"
   ]
  },
  {
   "cell_type": "markdown",
   "metadata": {},
   "source": [
    "You can see that there's some pretty bad overfitting going on. In the following cells I do some extensive hyperparameter tuning, until I find the best one is a max_depth of 4 and max_features of 1.0."
   ]
  },
  {
   "cell_type": "code",
   "execution_count": 12,
   "metadata": {},
   "outputs": [
    {
     "name": "stdout",
     "output_type": "stream",
     "text": [
      "{'max_depth': 3, 'max_features': 0.5, 'n_estimators': 1000, 'n_jobs': -1}\n",
      "0.816011235955\n",
      "0.804469273743\n"
     ]
    }
   ],
   "source": [
    "#OK so we're painfully overfitting. Max depth will have to go down, and num_features too.\n",
    "gsf = model_selection.GridSearchCV(rf,{'n_estimators' : [1000], 'n_jobs' : [-1], \\\n",
    "                                       'max_depth' : [2,3], 'max_features' : [0.5,0.2] }, cv=7)\n",
    "gsf.fit(Xtrain,Ytrain)\n",
    "#best hyperparameters\n",
    "print(gsf.best_params_)\n",
    "#Within sample accuracy\n",
    "print(gsf.score(Xtrain,Ytrain))\n",
    "#out of sample accuracy\n",
    "print(gsf.score(Xtest,Ytest))"
   ]
  },
  {
   "cell_type": "code",
   "execution_count": 13,
   "metadata": {},
   "outputs": [
    {
     "name": "stdout",
     "output_type": "stream",
     "text": [
      "{'max_depth': 3, 'max_features': 0.5, 'n_estimators': 1000, 'n_jobs': -1}\n",
      "0.816011235955\n",
      "0.804469273743\n"
     ]
    }
   ],
   "source": [
    "#Well, though our variance decreased, our out of sample prediction is the same: bad. Let's try some more tuning.\n",
    "gsf = model_selection.GridSearchCV(rf,{'n_estimators' : [1000], 'n_jobs' : [-1], \\\n",
    "                                       'max_depth' : [3,5], 'max_features' : [0.5,0.7] }, cv=7)\n",
    "gsf.fit(Xtrain,Ytrain)\n",
    "#best hyperparameters\n",
    "print(gsf.best_params_)\n",
    "#Within sample accuracy\n",
    "print(gsf.score(Xtrain,Ytrain))\n",
    "#out of sample accuracy\n",
    "print(gsf.score(Xtest,Ytest))"
   ]
  },
  {
   "cell_type": "code",
   "execution_count": 14,
   "metadata": {},
   "outputs": [
    {
     "name": "stdout",
     "output_type": "stream",
     "text": [
      "{'max_depth': 3, 'max_features': 1.0, 'n_estimators': 1000, 'n_jobs': -1}\n",
      "0.818820224719\n",
      "0.793296089385\n"
     ]
    }
   ],
   "source": [
    "#More tuning\n",
    "gsf = model_selection.GridSearchCV(rf,{'n_estimators' : [1000], 'n_jobs' : [-1], \\\n",
    "                                       'max_depth' : [3], 'max_features' : [1.0] }, cv=7)\n",
    "gsf.fit(Xtrain,Ytrain)\n",
    "#best hyperparameters\n",
    "print(gsf.best_params_)\n",
    "#Within sample accuracy\n",
    "print(gsf.score(Xtrain,Ytrain))\n",
    "#out of sample accuracy\n",
    "print(gsf.score(Xtest,Ytest))"
   ]
  },
  {
   "cell_type": "code",
   "execution_count": 15,
   "metadata": {},
   "outputs": [
    {
     "name": "stdout",
     "output_type": "stream",
     "text": [
      "{'max_depth': 10, 'max_features': 0.5, 'n_estimators': 1000, 'n_jobs': -1}\n",
      "0.955056179775\n",
      "0.837988826816\n"
     ]
    }
   ],
   "source": [
    "#More tuning\n",
    "gsf = model_selection.GridSearchCV(rf,{'n_estimators' : [1000], 'n_jobs' : [-1], \\\n",
    "                                       'max_depth' : [10], 'max_features' : [0.5] }, cv=7)\n",
    "gsf.fit(Xtrain,Ytrain)\n",
    "#best hyperparameters\n",
    "print(gsf.best_params_)\n",
    "#Within sample accuracy\n",
    "print(gsf.score(Xtrain,Ytrain))\n",
    "#out of sample accuracy\n",
    "print(gsf.score(Xtest,Ytest))"
   ]
  },
  {
   "cell_type": "code",
   "execution_count": 16,
   "metadata": {},
   "outputs": [
    {
     "name": "stdout",
     "output_type": "stream",
     "text": [
      "{'max_depth': 5, 'max_features': 1.0, 'n_estimators': 1000, 'n_jobs': -1}\n",
      "0.869382022472\n",
      "0.821229050279\n"
     ]
    }
   ],
   "source": [
    "#More tuning\n",
    "gsf = model_selection.GridSearchCV(rf,{'n_estimators' : [1000], 'n_jobs' : [-1], \\\n",
    "                                       'max_depth' : [5], 'max_features' : [1.0] }, cv=7)\n",
    "gsf.fit(Xtrain,Ytrain)\n",
    "#best hyperparameters\n",
    "print(gsf.best_params_)\n",
    "#Within sample accuracy\n",
    "print(gsf.score(Xtrain,Ytrain))\n",
    "#out of sample accuracy\n",
    "print(gsf.score(Xtest,Ytest))"
   ]
  },
  {
   "cell_type": "code",
   "execution_count": 17,
   "metadata": {},
   "outputs": [
    {
     "name": "stdout",
     "output_type": "stream",
     "text": [
      "{'max_depth': 4, 'max_features': 1.0, 'n_estimators': 1000, 'n_jobs': -1}\n",
      "0.837078651685\n",
      "0.810055865922\n"
     ]
    }
   ],
   "source": [
    "#More tuning\n",
    "gsf = model_selection.GridSearchCV(rf,{'n_estimators' : [1000], 'n_jobs' : [-1], \\\n",
    "                                       'max_depth' : [4], 'max_features' : [1.0] }, cv=7)\n",
    "gsf.fit(Xtrain,Ytrain)\n",
    "#best hyperparameters\n",
    "print(gsf.best_params_)\n",
    "#Within sample accuracy\n",
    "print(gsf.score(Xtrain,Ytrain))\n",
    "#out of sample accuracy\n",
    "print(gsf.score(Xtest,Ytest))"
   ]
  },
  {
   "cell_type": "code",
   "execution_count": 18,
   "metadata": {},
   "outputs": [
    {
     "name": "stdout",
     "output_type": "stream",
     "text": [
      "{'max_depth': 4, 'max_features': 0.7, 'n_estimators': 1000, 'n_jobs': -1}\n",
      "0.834269662921\n",
      "0.793296089385\n"
     ]
    }
   ],
   "source": [
    "#More tuning\n",
    "gsf = model_selection.GridSearchCV(rf,{'n_estimators' : [1000], 'n_jobs' : [-1], \\\n",
    "                                       'max_depth' : [4], 'max_features' : [0.7] }, cv=7)\n",
    "gsf.fit(Xtrain,Ytrain)\n",
    "#best hyperparameters\n",
    "print(gsf.best_params_)\n",
    "#Within sample accuracy\n",
    "print(gsf.score(Xtrain,Ytrain))\n",
    "#out of sample accuracy\n",
    "print(gsf.score(Xtest,Ytest))"
   ]
  },
  {
   "cell_type": "code",
   "execution_count": 19,
   "metadata": {},
   "outputs": [
    {
     "name": "stdout",
     "output_type": "stream",
     "text": [
      "{'max_depth': 6, 'max_features': 0.7, 'n_estimators': 1000, 'n_jobs': -1}\n",
      "0.89606741573\n",
      "0.826815642458\n"
     ]
    }
   ],
   "source": [
    "#More tuning\n",
    "gsf = model_selection.GridSearchCV(rf,{'n_estimators' : [1000], 'n_jobs' : [-1], \\\n",
    "                                       'max_depth' : [5,6], 'max_features' : [0.7] }, cv=7)\n",
    "gsf.fit(Xtrain,Ytrain)\n",
    "#best hyperparameters\n",
    "print(gsf.best_params_)\n",
    "#Within sample accuracy\n",
    "print(gsf.score(Xtrain,Ytrain))\n",
    "#out of sample accuracy\n",
    "print(gsf.score(Xtest,Ytest))"
   ]
  },
  {
   "cell_type": "code",
   "execution_count": 14,
   "metadata": {},
   "outputs": [
    {
     "name": "stdout",
     "output_type": "stream",
     "text": [
      "0.852974186308\n"
     ]
    }
   ],
   "source": [
    "#So I think our best bet here is a depth of 4 and all the features. Let's train our model on all our data\n",
    "rff = ensemble.RandomForestClassifier(n_estimators = 1000, max_depth = 4, max_features = 1.0)\n",
    "rff.fit(X,y)\n",
    "#Within sample accuracy\n",
    "print(rff.score(X,y))"
   ]
  },
  {
   "cell_type": "markdown",
   "metadata": {
    "collapsed": true
   },
   "source": [
    "Now we do the Adaboosted tree. I didn't get as good results as the Random forest, and I found that the validation set prediction tops out at the default parameters 1 and 50. I have to use 7 fold validation because the data is so small, we need as much data as we can to train on. "
   ]
  },
  {
   "cell_type": "code",
   "execution_count": 21,
   "metadata": {},
   "outputs": [
    {
     "name": "stdout",
     "output_type": "stream",
     "text": [
      "{'learning_rate': 0.5, 'n_estimators': 50}\n",
      "0.825842696629\n",
      "0.782122905028\n"
     ]
    }
   ],
   "source": [
    "#OK now, Let's try it on a boosted tree\n",
    "ab = ensemble.AdaBoostClassifier()\n",
    "gsa = model_selection.GridSearchCV(ab,{'n_estimators' : [50], \\\n",
    "                                       'learning_rate' : [0.5,1.0,2.0]}, cv=7)\n",
    "gsa.fit(Xtrain,Ytrain)\n",
    "#best hyperparameters\n",
    "print(gsa.best_params_)\n",
    "#Within sample accuracy\n",
    "print(gsa.score(Xtrain,Ytrain))\n",
    "#out of sample accuracy\n",
    "print(gsa.score(Xtest,Ytest))"
   ]
  },
  {
   "cell_type": "code",
   "execution_count": 22,
   "metadata": {},
   "outputs": [
    {
     "name": "stdout",
     "output_type": "stream",
     "text": [
      "{'learning_rate': 1.0, 'n_estimators': 75}\n",
      "0.838483146067\n",
      "0.793296089385\n"
     ]
    }
   ],
   "source": [
    "#Good, no crazy overfitting. Let's dig some more through the parameters:\n",
    "gsa = model_selection.GridSearchCV(ab,{'n_estimators' : [75], \\\n",
    "                                       'learning_rate' : [1.0]}, cv=7)\n",
    "gsa.fit(Xtrain,Ytrain)\n",
    "#best hyperparameters\n",
    "print(gsa.best_params_)\n",
    "#Within sample accuracy\n",
    "print(gsa.score(Xtrain,Ytrain))\n",
    "#out of sample accuracy\n",
    "print(gsa.score(Xtest,Ytest))"
   ]
  },
  {
   "cell_type": "code",
   "execution_count": 23,
   "metadata": {},
   "outputs": [
    {
     "name": "stdout",
     "output_type": "stream",
     "text": [
      "{'learning_rate': 0.75, 'n_estimators': 75}\n",
      "0.825842696629\n",
      "0.798882681564\n"
     ]
    }
   ],
   "source": [
    "#more fitting\n",
    "gsa = model_selection.GridSearchCV(ab,{'n_estimators' : [75], \\\n",
    "                                       'learning_rate' : [0.75]}, cv=7)\n",
    "gsa.fit(Xtrain,Ytrain)\n",
    "#best hyperparameters\n",
    "print(gsa.best_params_)\n",
    "#Within sample accuracy\n",
    "print(gsa.score(Xtrain,Ytrain))\n",
    "#out of sample accuracy\n",
    "print(gsa.score(Xtest,Ytest))"
   ]
  },
  {
   "cell_type": "code",
   "execution_count": 24,
   "metadata": {},
   "outputs": [
    {
     "name": "stdout",
     "output_type": "stream",
     "text": [
      "{'learning_rate': 1.0, 'n_estimators': 25}\n",
      "0.827247191011\n",
      "0.821229050279\n"
     ]
    }
   ],
   "source": [
    "#more fitting\n",
    "gsa = model_selection.GridSearchCV(ab,{'n_estimators' : [25], \\\n",
    "                                       'learning_rate' : [1.0]}, cv=7)\n",
    "gsa.fit(Xtrain,Ytrain)\n",
    "#best hyperparameters\n",
    "print(gsa.best_params_)\n",
    "#Within sample accuracy\n",
    "print(gsa.score(Xtrain,Ytrain))\n",
    "#out of sample accuracy\n",
    "print(gsa.score(Xtest,Ytest))"
   ]
  },
  {
   "cell_type": "code",
   "execution_count": 25,
   "metadata": {},
   "outputs": [
    {
     "name": "stdout",
     "output_type": "stream",
     "text": [
      "{'learning_rate': 1.5, 'n_estimators': 25}\n",
      "0.821629213483\n",
      "0.793296089385\n"
     ]
    }
   ],
   "source": [
    "#more fitting\n",
    "gsa = model_selection.GridSearchCV(ab,{'n_estimators' : [25], \\\n",
    "                                       'learning_rate' : [1.5]}, cv=7)\n",
    "gsa.fit(Xtrain,Ytrain)\n",
    "#best hyperparameters\n",
    "print(gsa.best_params_)\n",
    "#Within sample accuracy\n",
    "print(gsa.score(Xtrain,Ytrain))\n",
    "#out of sample accuracy\n",
    "print(gsa.score(Xtest,Ytest))"
   ]
  },
  {
   "cell_type": "markdown",
   "metadata": {},
   "source": [
    "Now that we've estimated our models, we're going to prep our testing data and submit to Kaggle."
   ]
  },
  {
   "cell_type": "code",
   "execution_count": 47,
   "metadata": {
    "collapsed": true
   },
   "outputs": [],
   "source": [
    "#OK this is going nowhere. It's easy to see that we're sitting on a max on the default values.\n",
    "#Therefore, our best estimator was random forest. Let's get some predicted values!\n",
    "test = pd.read_csv('testti.csv')"
   ]
  },
  {
   "cell_type": "code",
   "execution_count": 51,
   "metadata": {
    "collapsed": true
   },
   "outputs": [],
   "source": [
    "#I'm going to follow what I did before as close as I can\n",
    "#making deck, even and number\n",
    "test['deck'] = test['Cabin'].astype(str).str[0]\n",
    "test['even'] = test['Cabin'].str.endswith('0') + test['Cabin'].str.endswith('2') + test['Cabin'].str.endswith('4') \\\n",
    "                + test['Cabin'].str.endswith('6') + test['Cabin'].str.endswith('8')\n",
    "test['number'] = test['Cabin'].astype(str).str[1:]\n",
    "test['number'] = pd.to_numeric(test['number'],errors='coerce')\n",
    "#filling in nas\n",
    "test = test.fillna(value={'Pclass' : 0, 'Name' : \"UKN\", 'Sex' : \"U\", 'Age' : -1, 'SibSp' : -1, 'Parch' : -1, 'Fare' : -1, \\\n",
    "                    'Embarked' : \"Unk\", 'even' : -1, 'number' : -1})\n",
    "#filling misc nas\n",
    "test = test.fillna(-1)\n",
    "#making dummies\n",
    "rdy_test = pd.get_dummies(test[['Pclass','Sex','Embarked','deck']])\n",
    "#adding numericals values\n",
    "for name in ['Age','SibSp','Parch','Fare']:\n",
    "    rdy_test[name] = test[name]"
   ]
  },
  {
   "cell_type": "markdown",
   "metadata": {},
   "source": [
    "We need to make the columns match"
   ]
  },
  {
   "cell_type": "code",
   "execution_count": 54,
   "metadata": {
    "scrolled": true
   },
   "outputs": [
    {
     "data": {
      "text/plain": [
       "['Pclass',\n",
       " 'Sex_female',\n",
       " 'Sex_male',\n",
       " 'Embarked_C',\n",
       " 'Embarked_Q',\n",
       " 'Embarked_S',\n",
       " 'deck_-',\n",
       " 'deck_A',\n",
       " 'deck_B',\n",
       " 'deck_C',\n",
       " 'deck_D',\n",
       " 'deck_E',\n",
       " 'deck_F',\n",
       " 'deck_G',\n",
       " 'Age',\n",
       " 'SibSp',\n",
       " 'Parch',\n",
       " 'Fare']"
      ]
     },
     "execution_count": 54,
     "metadata": {},
     "output_type": "execute_result"
    }
   ],
   "source": [
    "list(rdy_test)"
   ]
  },
  {
   "cell_type": "code",
   "execution_count": 53,
   "metadata": {
    "scrolled": false
   },
   "outputs": [
    {
     "data": {
      "text/plain": [
       "['Pclass',\n",
       " 'Sex_female',\n",
       " 'Sex_male',\n",
       " 'Embarked_C',\n",
       " 'Embarked_Q',\n",
       " 'Embarked_S',\n",
       " 'Embarked_Unk',\n",
       " 'deck_A',\n",
       " 'deck_B',\n",
       " 'deck_C',\n",
       " 'deck_D',\n",
       " 'deck_E',\n",
       " 'deck_F',\n",
       " 'deck_G',\n",
       " 'deck_T',\n",
       " 'deck_n',\n",
       " 'Survived',\n",
       " 'Age',\n",
       " 'SibSp',\n",
       " 'Parch',\n",
       " 'Fare']"
      ]
     },
     "execution_count": 53,
     "metadata": {},
     "output_type": "execute_result"
    }
   ],
   "source": [
    "list(rdy_train)"
   ]
  },
  {
   "cell_type": "code",
   "execution_count": 58,
   "metadata": {
    "collapsed": true
   },
   "outputs": [],
   "source": [
    "#making the two match:\n",
    "rdy_test['deck_n'] = rdy_test['deck_-']\n",
    "rdy_test['Embarked_Unk'] = 0\n",
    "rdy_test['deck_T'] = 0\n",
    "rdy_test = rdy_test.drop(['deck_-'], axis=1)"
   ]
  },
  {
   "cell_type": "markdown",
   "metadata": {},
   "source": [
    "And there you go! We made our prediction! It was about middle of the pack on Kaggle. "
   ]
  },
  {
   "cell_type": "code",
   "execution_count": 59,
   "metadata": {
    "collapsed": true
   },
   "outputs": [],
   "source": [
    "test['Survived'] = rff.predict(rdy_test)"
   ]
  },
  {
   "cell_type": "code",
   "execution_count": 61,
   "metadata": {
    "collapsed": true
   },
   "outputs": [],
   "source": [
    "test[['PassengerId','Survived']].to_csv('submission.csv',index=False)"
   ]
  },
  {
   "cell_type": "markdown",
   "metadata": {
    "collapsed": true
   },
   "source": [
    "For Curiosity's sake, I want to see the features importance for the data"
   ]
  },
  {
   "cell_type": "code",
   "execution_count": 18,
   "metadata": {
    "scrolled": true
   },
   "outputs": [
    {
     "data": {
      "text/plain": [
       "<matplotlib.axes._subplots.AxesSubplot at 0x15e797f2630>"
      ]
     },
     "execution_count": 18,
     "metadata": {},
     "output_type": "execute_result"
    },
    {
     "data": {
      "image/png": "[encoded data removed]",
      "text/plain": [
       "<matplotlib.figure.Figure at 0x15e797f2e48>"
      ]
     },
     "metadata": {},
     "output_type": "display_data"
    }
   ],
   "source": [
    "import matplotlib\n",
    "#Get the Feature importantces for the data\n",
    "%matplotlib inline\n",
    "feature_imp = sorted(list(zip(list(X), rff.feature_importances_)), key=lambda x: x[1], reverse=True)\n",
    "ls = pd.Series([x[1] for x in feature_imp], index=[x[0] for x in feature_imp])\n",
    "ls[0:22].plot(kind='bar')"
   ]
  },
  {
   "cell_type": "markdown",
   "metadata": {},
   "source": [
    "This graph agrees with my intuition. (It's also why sampling features didn't work). Sex is clearly a huge predictor, and I'd guess that a tree without it would be pretty lost. Age and proxies for wealth are next, which makes sense. (deck_n means missing, which means they were probably living near the bottom of the ship)."
   ]
  },
  {
   "cell_type": "markdown",
   "metadata": {},
   "source": [
    "Anyway, I hope you enjoyed this as much as I did! Have a great one."
   ]
  },
  {
   "cell_type": "code",
   "execution_count": null,
   "metadata": {
    "collapsed": true
   },
   "outputs": [],
   "source": []
  }
 ],
 "metadata": {
  "kernelspec": {
   "display_name": "Python 3",
   "language": "python",
   "name": "python3"
  },
  "language_info": {
   "codemirror_mode": {
    "name": "ipython",
    "version": 3
   },
   "file_extension": ".py",
   "mimetype": "text/x-python",
   "name": "python",
   "nbconvert_exporter": "python",
   "pygments_lexer": "ipython3",
   "version": "3.6.1"
  }
 },
 "nbformat": 4,
 "nbformat_minor": 2
}
