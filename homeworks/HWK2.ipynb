{
 "cells": [
  {
   "cell_type": "markdown",
   "metadata": {},
   "source": [
    "Homework 2 --- Christopher Cook --- *Predicting with Kaggle!*"
   ]
  },
  {
   "cell_type": "markdown",
   "metadata": {},
   "source": [
    "Hello! I'm going to show you how to use machine learning to predict house values using a dataset from kaggle. First we need to import pandas and open the dataset."
   ]
  },
  {
   "cell_type": "code",
   "execution_count": 116,
   "metadata": {
    "collapsed": true
   },
   "outputs": [],
   "source": [
    "import pandas as pd"
   ]
  },
  {
   "cell_type": "code",
   "execution_count": 117,
   "metadata": {
    "collapsed": true
   },
   "outputs": [],
   "source": [
    "train = pd.read_csv('C:/users/Christopher Cook/Downloads/kaggle/train.csv')"
   ]
  },
  {
   "cell_type": "markdown",
   "metadata": {},
   "source": [
    "Let's take a peek at what we're dealing with."
   ]
  },
  {
   "cell_type": "code",
   "execution_count": 118,
   "metadata": {},
   "outputs": [
    {
     "data": {
      "text/html": [
       "<div>\n",
       "<style>\n",
       "    .dataframe thead tr:only-child th {\n",
       "        text-align: right;\n",
       "    }\n",
       "\n",
       "    .dataframe thead th {\n",
       "        text-align: left;\n",
       "    }\n",
       "\n",
       "    .dataframe tbody tr th {\n",
       "        vertical-align: top;\n",
       "    }\n",
       "</style>\n",
       "<table border=\"1\" class=\"dataframe\">\n",
       "  <thead>\n",
       "    <tr style=\"text-align: right;\">\n",
       "      <th></th>\n",
       "      <th>Id</th>\n",
       "      <th>MSSubClass</th>\n",
       "      <th>MSZoning</th>\n",
       "      <th>LotFrontage</th>\n",
       "      <th>LotArea</th>\n",
       "      <th>Street</th>\n",
       "      <th>Alley</th>\n",
       "      <th>LotShape</th>\n",
       "      <th>LandContour</th>\n",
       "      <th>Utilities</th>\n",
       "      <th>...</th>\n",
       "      <th>PoolArea</th>\n",
       "      <th>PoolQC</th>\n",
       "      <th>Fence</th>\n",
       "      <th>MiscFeature</th>\n",
       "      <th>MiscVal</th>\n",
       "      <th>MoSold</th>\n",
       "      <th>YrSold</th>\n",
       "      <th>SaleType</th>\n",
       "      <th>SaleCondition</th>\n",
       "      <th>SalePrice</th>\n",
       "    </tr>\n",
       "  </thead>\n",
       "  <tbody>\n",
       "    <tr>\n",
       "      <th>0</th>\n",
       "      <td>1</td>\n",
       "      <td>60</td>\n",
       "      <td>RL</td>\n",
       "      <td>65.0</td>\n",
       "      <td>8450</td>\n",
       "      <td>Pave</td>\n",
       "      <td>NaN</td>\n",
       "      <td>Reg</td>\n",
       "      <td>Lvl</td>\n",
       "      <td>AllPub</td>\n",
       "      <td>...</td>\n",
       "      <td>0</td>\n",
       "      <td>NaN</td>\n",
       "      <td>NaN</td>\n",
       "      <td>NaN</td>\n",
       "      <td>0</td>\n",
       "      <td>2</td>\n",
       "      <td>2008</td>\n",
       "      <td>WD</td>\n",
       "      <td>Normal</td>\n",
       "      <td>208500</td>\n",
       "    </tr>\n",
       "    <tr>\n",
       "      <th>1</th>\n",
       "      <td>2</td>\n",
       "      <td>20</td>\n",
       "      <td>RL</td>\n",
       "      <td>80.0</td>\n",
       "      <td>9600</td>\n",
       "      <td>Pave</td>\n",
       "      <td>NaN</td>\n",
       "      <td>Reg</td>\n",
       "      <td>Lvl</td>\n",
       "      <td>AllPub</td>\n",
       "      <td>...</td>\n",
       "      <td>0</td>\n",
       "      <td>NaN</td>\n",
       "      <td>NaN</td>\n",
       "      <td>NaN</td>\n",
       "      <td>0</td>\n",
       "      <td>5</td>\n",
       "      <td>2007</td>\n",
       "      <td>WD</td>\n",
       "      <td>Normal</td>\n",
       "      <td>181500</td>\n",
       "    </tr>\n",
       "    <tr>\n",
       "      <th>2</th>\n",
       "      <td>3</td>\n",
       "      <td>60</td>\n",
       "      <td>RL</td>\n",
       "      <td>68.0</td>\n",
       "      <td>11250</td>\n",
       "      <td>Pave</td>\n",
       "      <td>NaN</td>\n",
       "      <td>IR1</td>\n",
       "      <td>Lvl</td>\n",
       "      <td>AllPub</td>\n",
       "      <td>...</td>\n",
       "      <td>0</td>\n",
       "      <td>NaN</td>\n",
       "      <td>NaN</td>\n",
       "      <td>NaN</td>\n",
       "      <td>0</td>\n",
       "      <td>9</td>\n",
       "      <td>2008</td>\n",
       "      <td>WD</td>\n",
       "      <td>Normal</td>\n",
       "      <td>223500</td>\n",
       "    </tr>\n",
       "    <tr>\n",
       "      <th>3</th>\n",
       "      <td>4</td>\n",
       "      <td>70</td>\n",
       "      <td>RL</td>\n",
       "      <td>60.0</td>\n",
       "      <td>9550</td>\n",
       "      <td>Pave</td>\n",
       "      <td>NaN</td>\n",
       "      <td>IR1</td>\n",
       "      <td>Lvl</td>\n",
       "      <td>AllPub</td>\n",
       "      <td>...</td>\n",
       "      <td>0</td>\n",
       "      <td>NaN</td>\n",
       "      <td>NaN</td>\n",
       "      <td>NaN</td>\n",
       "      <td>0</td>\n",
       "      <td>2</td>\n",
       "      <td>2006</td>\n",
       "      <td>WD</td>\n",
       "      <td>Abnorml</td>\n",
       "      <td>140000</td>\n",
       "    </tr>\n",
       "    <tr>\n",
       "      <th>4</th>\n",
       "      <td>5</td>\n",
       "      <td>60</td>\n",
       "      <td>RL</td>\n",
       "      <td>84.0</td>\n",
       "      <td>14260</td>\n",
       "      <td>Pave</td>\n",
       "      <td>NaN</td>\n",
       "      <td>IR1</td>\n",
       "      <td>Lvl</td>\n",
       "      <td>AllPub</td>\n",
       "      <td>...</td>\n",
       "      <td>0</td>\n",
       "      <td>NaN</td>\n",
       "      <td>NaN</td>\n",
       "      <td>NaN</td>\n",
       "      <td>0</td>\n",
       "      <td>12</td>\n",
       "      <td>2008</td>\n",
       "      <td>WD</td>\n",
       "      <td>Normal</td>\n",
       "      <td>250000</td>\n",
       "    </tr>\n",
       "  </tbody>\n",
       "</table>\n",
       "<p>5 rows × 81 columns</p>\n",
       "</div>"
      ],
      "text/plain": [
       "   Id  MSSubClass MSZoning  LotFrontage  LotArea Street Alley LotShape  \\\n",
       "0   1          60       RL         65.0     8450   Pave   NaN      Reg   \n",
       "1   2          20       RL         80.0     9600   Pave   NaN      Reg   \n",
       "2   3          60       RL         68.0    11250   Pave   NaN      IR1   \n",
       "3   4          70       RL         60.0     9550   Pave   NaN      IR1   \n",
       "4   5          60       RL         84.0    14260   Pave   NaN      IR1   \n",
       "\n",
       "  LandContour Utilities    ...     PoolArea PoolQC Fence MiscFeature MiscVal  \\\n",
       "0         Lvl    AllPub    ...            0    NaN   NaN         NaN       0   \n",
       "1         Lvl    AllPub    ...            0    NaN   NaN         NaN       0   \n",
       "2         Lvl    AllPub    ...            0    NaN   NaN         NaN       0   \n",
       "3         Lvl    AllPub    ...            0    NaN   NaN         NaN       0   \n",
       "4         Lvl    AllPub    ...            0    NaN   NaN         NaN       0   \n",
       "\n",
       "  MoSold YrSold  SaleType  SaleCondition  SalePrice  \n",
       "0      2   2008        WD         Normal     208500  \n",
       "1      5   2007        WD         Normal     181500  \n",
       "2      9   2008        WD         Normal     223500  \n",
       "3      2   2006        WD        Abnorml     140000  \n",
       "4     12   2008        WD         Normal     250000  \n",
       "\n",
       "[5 rows x 81 columns]"
      ]
     },
     "execution_count": 118,
     "metadata": {},
     "output_type": "execute_result"
    }
   ],
   "source": [
    "train.head(5)"
   ]
  },
  {
   "cell_type": "markdown",
   "metadata": {},
   "source": [
    "It looks like we've got a bunch of categorical variables as well as several integar valued variables as well. The time variables are ints, and so I'm going to convert them into strings so that get_dummies knows that they're categorical."
   ]
  },
  {
   "cell_type": "code",
   "execution_count": 119,
   "metadata": {
    "collapsed": true
   },
   "outputs": [],
   "source": [
    "#convert to strings\n",
    "train['MSSubClass'] = train['MSSubClass'].apply(str)\n",
    "train['YrSold'] = train['YrSold'].apply(str)\n",
    "train['YearBuilt'] = train['YearBuilt'].apply(str)\n",
    "train['YearRemodAdd'] = train['YearRemodAdd'].apply(str)\n",
    "train['MoSold'] = train['MoSold'].apply(str)"
   ]
  },
  {
   "cell_type": "markdown",
   "metadata": {},
   "source": [
    "Next we have to deal with the variables where a missing value means something. I went through the key, and inferred which variables are like this. Most of these treated missing as another value. "
   ]
  },
  {
   "cell_type": "code",
   "execution_count": 120,
   "metadata": {
    "collapsed": true
   },
   "outputs": [],
   "source": [
    "#create dict for categorical missing values i.e. missing means something\n",
    "missing_fill = {'MSSubClass' : 'None','MSZoning' : 'None', 'Alley' : 'None', 'BsmtQual' : 'None', 'BsmtCond' : 'None',  'BsmtExposure' : 'None', 'BsmtFinType1' : 'None', 'BsmtFinType2': 'None', 'Functional': 'Typ', 'FireplaceQu' : 'None', 'GarageType': 'None', 'GarageYrBlt': 'None', 'GarageFinish': 'None', 'GarageCars': 'None', 'GarageQual': 'None', 'GarageCond' : 'None', 'PoolQC': 'None', 'Fence' : 'None', 'MiscFeature' : 'None'}\n"
   ]
  },
  {
   "cell_type": "code",
   "execution_count": 121,
   "metadata": {
    "collapsed": true
   },
   "outputs": [],
   "source": [
    "#fill missing values with specified dict values\n",
    "train = train.fillna(missing_fill)"
   ]
  },
  {
   "cell_type": "markdown",
   "metadata": {},
   "source": [
    "Next, as best as I can tell, the other variables were missing because of incedential reasons. I decided the best way to deal with this is to replace missing data from one row with data from the row above, after randomly shuffling the data."
   ]
  },
  {
   "cell_type": "code",
   "execution_count": 122,
   "metadata": {
    "collapsed": true
   },
   "outputs": [],
   "source": [
    "#The other variables are missing for incedential reasons. That is I don't think that a missing value means anything. Hence, they\n",
    "#are being replaced with the variable before it.\n",
    "train = train.sample(frac=1).reset_index(drop=True)\n",
    "train = train.fillna(method='ffill')"
   ]
  },
  {
   "cell_type": "markdown",
   "metadata": {},
   "source": [
    "Let's take a peek again at the data."
   ]
  },
  {
   "cell_type": "code",
   "execution_count": 123,
   "metadata": {},
   "outputs": [
    {
     "data": {
      "text/html": [
       "<div>\n",
       "<style>\n",
       "    .dataframe thead tr:only-child th {\n",
       "        text-align: right;\n",
       "    }\n",
       "\n",
       "    .dataframe thead th {\n",
       "        text-align: left;\n",
       "    }\n",
       "\n",
       "    .dataframe tbody tr th {\n",
       "        vertical-align: top;\n",
       "    }\n",
       "</style>\n",
       "<table border=\"1\" class=\"dataframe\">\n",
       "  <thead>\n",
       "    <tr style=\"text-align: right;\">\n",
       "      <th></th>\n",
       "      <th>Id</th>\n",
       "      <th>MSSubClass</th>\n",
       "      <th>MSZoning</th>\n",
       "      <th>LotFrontage</th>\n",
       "      <th>LotArea</th>\n",
       "      <th>Street</th>\n",
       "      <th>Alley</th>\n",
       "      <th>LotShape</th>\n",
       "      <th>LandContour</th>\n",
       "      <th>Utilities</th>\n",
       "      <th>...</th>\n",
       "      <th>PoolArea</th>\n",
       "      <th>PoolQC</th>\n",
       "      <th>Fence</th>\n",
       "      <th>MiscFeature</th>\n",
       "      <th>MiscVal</th>\n",
       "      <th>MoSold</th>\n",
       "      <th>YrSold</th>\n",
       "      <th>SaleType</th>\n",
       "      <th>SaleCondition</th>\n",
       "      <th>SalePrice</th>\n",
       "    </tr>\n",
       "  </thead>\n",
       "  <tbody>\n",
       "    <tr>\n",
       "      <th>0</th>\n",
       "      <td>1128</td>\n",
       "      <td>20</td>\n",
       "      <td>RL</td>\n",
       "      <td>182.0</td>\n",
       "      <td>14572</td>\n",
       "      <td>Pave</td>\n",
       "      <td>None</td>\n",
       "      <td>IR3</td>\n",
       "      <td>Lvl</td>\n",
       "      <td>AllPub</td>\n",
       "      <td>...</td>\n",
       "      <td>0</td>\n",
       "      <td>None</td>\n",
       "      <td>None</td>\n",
       "      <td>None</td>\n",
       "      <td>0</td>\n",
       "      <td>11</td>\n",
       "      <td>2007</td>\n",
       "      <td>WD</td>\n",
       "      <td>Family</td>\n",
       "      <td>259000</td>\n",
       "    </tr>\n",
       "    <tr>\n",
       "      <th>1</th>\n",
       "      <td>1182</td>\n",
       "      <td>120</td>\n",
       "      <td>RM</td>\n",
       "      <td>64.0</td>\n",
       "      <td>5587</td>\n",
       "      <td>Pave</td>\n",
       "      <td>None</td>\n",
       "      <td>IR1</td>\n",
       "      <td>HLS</td>\n",
       "      <td>AllPub</td>\n",
       "      <td>...</td>\n",
       "      <td>0</td>\n",
       "      <td>None</td>\n",
       "      <td>None</td>\n",
       "      <td>None</td>\n",
       "      <td>0</td>\n",
       "      <td>11</td>\n",
       "      <td>2008</td>\n",
       "      <td>New</td>\n",
       "      <td>Partial</td>\n",
       "      <td>392500</td>\n",
       "    </tr>\n",
       "    <tr>\n",
       "      <th>2</th>\n",
       "      <td>171</td>\n",
       "      <td>50</td>\n",
       "      <td>RM</td>\n",
       "      <td>64.0</td>\n",
       "      <td>12358</td>\n",
       "      <td>Pave</td>\n",
       "      <td>None</td>\n",
       "      <td>IR1</td>\n",
       "      <td>Lvl</td>\n",
       "      <td>AllPub</td>\n",
       "      <td>...</td>\n",
       "      <td>0</td>\n",
       "      <td>None</td>\n",
       "      <td>None</td>\n",
       "      <td>None</td>\n",
       "      <td>0</td>\n",
       "      <td>5</td>\n",
       "      <td>2007</td>\n",
       "      <td>WD</td>\n",
       "      <td>Normal</td>\n",
       "      <td>128500</td>\n",
       "    </tr>\n",
       "    <tr>\n",
       "      <th>3</th>\n",
       "      <td>195</td>\n",
       "      <td>20</td>\n",
       "      <td>RL</td>\n",
       "      <td>60.0</td>\n",
       "      <td>7180</td>\n",
       "      <td>Pave</td>\n",
       "      <td>None</td>\n",
       "      <td>IR1</td>\n",
       "      <td>Lvl</td>\n",
       "      <td>AllPub</td>\n",
       "      <td>...</td>\n",
       "      <td>0</td>\n",
       "      <td>None</td>\n",
       "      <td>None</td>\n",
       "      <td>None</td>\n",
       "      <td>0</td>\n",
       "      <td>5</td>\n",
       "      <td>2008</td>\n",
       "      <td>WD</td>\n",
       "      <td>Normal</td>\n",
       "      <td>127000</td>\n",
       "    </tr>\n",
       "    <tr>\n",
       "      <th>4</th>\n",
       "      <td>1388</td>\n",
       "      <td>50</td>\n",
       "      <td>RM</td>\n",
       "      <td>60.0</td>\n",
       "      <td>8520</td>\n",
       "      <td>Pave</td>\n",
       "      <td>Grvl</td>\n",
       "      <td>Reg</td>\n",
       "      <td>Lvl</td>\n",
       "      <td>AllPub</td>\n",
       "      <td>...</td>\n",
       "      <td>0</td>\n",
       "      <td>None</td>\n",
       "      <td>GdWo</td>\n",
       "      <td>None</td>\n",
       "      <td>0</td>\n",
       "      <td>8</td>\n",
       "      <td>2007</td>\n",
       "      <td>CWD</td>\n",
       "      <td>Family</td>\n",
       "      <td>136000</td>\n",
       "    </tr>\n",
       "  </tbody>\n",
       "</table>\n",
       "<p>5 rows × 81 columns</p>\n",
       "</div>"
      ],
      "text/plain": [
       "     Id MSSubClass MSZoning  LotFrontage  LotArea Street Alley LotShape  \\\n",
       "0  1128         20       RL        182.0    14572   Pave  None      IR3   \n",
       "1  1182        120       RM         64.0     5587   Pave  None      IR1   \n",
       "2   171         50       RM         64.0    12358   Pave  None      IR1   \n",
       "3   195         20       RL         60.0     7180   Pave  None      IR1   \n",
       "4  1388         50       RM         60.0     8520   Pave  Grvl      Reg   \n",
       "\n",
       "  LandContour Utilities    ...    PoolArea PoolQC Fence MiscFeature MiscVal  \\\n",
       "0         Lvl    AllPub    ...           0   None  None        None       0   \n",
       "1         HLS    AllPub    ...           0   None  None        None       0   \n",
       "2         Lvl    AllPub    ...           0   None  None        None       0   \n",
       "3         Lvl    AllPub    ...           0   None  None        None       0   \n",
       "4         Lvl    AllPub    ...           0   None  GdWo        None       0   \n",
       "\n",
       "  MoSold YrSold  SaleType  SaleCondition SalePrice  \n",
       "0     11   2007        WD         Family    259000  \n",
       "1     11   2008       New        Partial    392500  \n",
       "2      5   2007        WD         Normal    128500  \n",
       "3      5   2008        WD         Normal    127000  \n",
       "4      8   2007       CWD         Family    136000  \n",
       "\n",
       "[5 rows x 81 columns]"
      ]
     },
     "execution_count": 123,
     "metadata": {},
     "output_type": "execute_result"
    }
   ],
   "source": [
    "train.head(5)"
   ]
  },
  {
   "cell_type": "markdown",
   "metadata": {},
   "source": [
    "Looks great! Let's create some dummies, normalize our numerical data and get on to the models!"
   ]
  },
  {
   "cell_type": "code",
   "execution_count": 129,
   "metadata": {},
   "outputs": [],
   "source": [
    "#Listing Numerical data\n",
    "numericals = {'LotFrontage', 'LotArea','MasVnrArea','BsmtFinSF1', 'BsmtFinSF2', 'BsmtUnfSF', 'TotalBsmtSF','1stFlrSF', '2ndFlrSF','LowQualFinSF','GrLivArea', 'BsmtFullBath', 'BsmtHalfBath', 'FullBath', 'HalfBath', 'BedroomAbvGr', 'KitchenAbvGr', 'TotRmsAbvGrd','Fireplaces','GarageArea','WoodDeckSF', 'OpenPorchSF', 'EnclosedPorch', '3SsnPorch', 'ScreenPorch', 'PoolArea','MiscVal','OverallQual', 'OverallCond', 'GarageCars', 'SalePrice'}\n",
    "\n",
    "#Get Dummies. Though it wasn't neccesary I removed the numericals from dummies list entirely\n",
    "dum_train = pd.get_dummies(train.drop(labels=(numericals), axis=1), drop_first=True)\n",
    "\n",
    "#Need to store saleprice SDev and mean for later\n",
    "mean = train['SalePrice'].mean()\n",
    "std = train['SalePrice'].std()\n",
    "\n",
    "#Here I add a normalized version of my numerical variables\n",
    "for name in numericals:\n",
    "    dum_train[name] = (train[name] - train[name].mean()) / train[name].std()"
   ]
  },
  {
   "cell_type": "markdown",
   "metadata": {},
   "source": [
    "Now we move on to the models. Below, you can see the remnants of my brainstorming. In the end I decided to use Linear regression (with ridge and lasso), SVR and Random Forest. "
   ]
  },
  {
   "cell_type": "code",
   "execution_count": 130,
   "metadata": {},
   "outputs": [],
   "source": [
    "#What Models do we want to test?\n",
    "'''\n",
    "Random Forest\n",
    "Linear/Ridge\n",
    "SVR\n",
    "'''\n",
    "\n",
    "X = dum_train.drop(['SalePrice', 'Id'], axis=1).values\n",
    "y = dum_train['SalePrice'].values\n"
   ]
  },
  {
   "cell_type": "markdown",
   "metadata": {},
   "source": [
    "Here I fit the linear (OLS), Ridge and Lasso models, using a gridsearch for optimal parameters, as necessary. Interestingly enough, OLS seems to have done the best of the three. "
   ]
  },
  {
   "cell_type": "code",
   "execution_count": 131,
   "metadata": {},
   "outputs": [
    {
     "name": "stdout",
     "output_type": "stream",
     "text": [
      "Score: 0.946856879631\n"
     ]
    }
   ],
   "source": [
    "from sklearn import linear_model\n",
    "linear = linear_model.LinearRegression()\n",
    "linear.fit(X,y)\n",
    "print('Score: ' + str(linear.score(X,y)))"
   ]
  },
  {
   "cell_type": "code",
   "execution_count": 132,
   "metadata": {},
   "outputs": [
    {
     "name": "stdout",
     "output_type": "stream",
     "text": [
      "Lasso(alpha=0.001, copy_X=True, fit_intercept=True, max_iter=1000,\n",
      "   normalize=False, positive=False, precompute=False, random_state=None,\n",
      "   selection='cyclic', tol=0.0001, warm_start=False)\n",
      "Best Score: 0.905103065833\n"
     ]
    }
   ],
   "source": [
    "from sklearn.model_selection import GridSearchCV\n",
    "lass = linear_model.Lasso()\n",
    "gr_lass = GridSearchCV(lass,{'alpha' : [0.001,0.01,0.1,1,10,100]}) #Note here: Didn't include 0.0001 because of convergence issues\n",
    "gr_lass.fit(X,y)\n",
    "print(gr_lass.best_estimator_)\n",
    "print('Best Score: ' + str(gr_lass.score(X,y)))"
   ]
  },
  {
   "cell_type": "code",
   "execution_count": 128,
   "metadata": {},
   "outputs": [
    {
     "name": "stdout",
     "output_type": "stream",
     "text": [
      "Ridge(alpha=10, copy_X=True, fit_intercept=True, max_iter=None,\n",
      "   normalize=False, random_state=None, solver='auto', tol=0.001)\n",
      "Best Score: 0.905241869455\n"
     ]
    }
   ],
   "source": [
    "rig = linear_model.Ridge()\n",
    "gr_rig = GridSearchCV(rig,{'alpha' : [0.001,0.01,0.1,1,10,100]})\n",
    "gr_rig.fit(X,y)\n",
    "print(gr_rig.best_estimator_)\n",
    "print('Best Score: ' + str(gr_rig.score(X,y)))"
   ]
  },
  {
   "cell_type": "markdown",
   "metadata": {},
   "source": [
    "Next I run an SVR model. We can see that this does much better than any of the linear models. "
   ]
  },
  {
   "cell_type": "code",
   "execution_count": 83,
   "metadata": {},
   "outputs": [
    {
     "name": "stdout",
     "output_type": "stream",
     "text": [
      "SVR(C=1, cache_size=200, coef0=0.0, degree=3, epsilon=0.1, gamma='auto',\n",
      "  kernel='rbf', max_iter=-1, shrinking=True, tol=0.001, verbose=False)\n",
      "Best Score: 0.882274721378\n"
     ]
    }
   ],
   "source": [
    "from sklearn import svm\n",
    "svr = svm.SVR()\n",
    "gr_svr = GridSearchCV(svr,{'C' : [0.1,1,10,100], 'epsilon' : [0.01,0.1,1]})\n",
    "gr_svr.fit(X,y)\n",
    "print(gr_svr.best_estimator_)\n",
    "print('Best Score: ' + str(gr_svr.score(X,y)))"
   ]
  },
  {
   "cell_type": "markdown",
   "metadata": {},
   "source": [
    "In order to get a feel for which parameters to choose for the Random Forest, I try a Decision Tree Regressor. We get that the best params are max_depth = 40 and min_samples_split = 20."
   ]
  },
  {
   "cell_type": "code",
   "execution_count": 84,
   "metadata": {},
   "outputs": [
    {
     "name": "stdout",
     "output_type": "stream",
     "text": [
      "DecisionTreeRegressor(criterion='mse', max_depth=80, max_features=None,\n",
      "           max_leaf_nodes=None, min_impurity_split=1e-07,\n",
      "           min_samples_leaf=1, min_samples_split=40,\n",
      "           min_weight_fraction_leaf=0.0, presort=False, random_state=None,\n",
      "           splitter='best')\n",
      "Best Score: 0.887480118056\n"
     ]
    }
   ],
   "source": [
    "from sklearn import tree\n",
    "tr = tree.DecisionTreeRegressor()\n",
    "gr_tr = GridSearchCV(tr,{'max_depth' : [3,5,10,20,40,80,160], 'min_samples_split' : [2,4,6,8,10,20,40]}, n_jobs=2)\n",
    "gr_tr.fit(X,y)\n",
    "print(gr_tr.best_estimator_)\n",
    "print('Best Score: ' + str(gr_tr.score(X,y)))"
   ]
  },
  {
   "cell_type": "markdown",
   "metadata": {},
   "source": [
    "Since we made the Tree, we may as well print it. This can give us some intution as to what the most important split points are."
   ]
  },
  {
   "cell_type": "code",
   "execution_count": 85,
   "metadata": {},
   "outputs": [],
   "source": [
    "tree.export_graphviz(gr_tr.best_estimator_, out_file='C:/users/Christopher Cook/Downloads/tree.dot')"
   ]
  },
  {
   "cell_type": "markdown",
   "metadata": {},
   "source": [
    "![title](Downloads/tree.png)"
   ]
  },
  {
   "cell_type": "markdown",
   "metadata": {},
   "source": [
    "I know that's way to big to make out, but you're free to look through it. It unfortunately doesn't give column names, just numbers though."
   ]
  },
  {
   "cell_type": "code",
   "execution_count": 89,
   "metadata": {},
   "outputs": [
    {
     "name": "stdout",
     "output_type": "stream",
     "text": [
      "RandomForestRegressor(bootstrap=True, criterion='mse', max_depth=40,\n",
      "           max_features='sqrt', max_leaf_nodes=None,\n",
      "           min_impurity_split=1e-07, min_samples_leaf=1,\n",
      "           min_samples_split=2, min_weight_fraction_leaf=0.0,\n",
      "           n_estimators=1000, n_jobs=1, oob_score=False, random_state=None,\n",
      "           verbose=0, warm_start=False)\n",
      "Best Score: 0.978582703655\n"
     ]
    }
   ],
   "source": [
    "from sklearn import ensemble\n",
    "rf = ensemble.RandomForestRegressor()\n",
    "gr_rf = GridSearchCV(rf,{'n_estimators': [10,100,1000], 'max_depth': [10,20,40], 'min_samples_split' : [2,5,10,20], 'max_features' : ['sqrt']})\n",
    "gr_rf.fit(X,y)\n",
    "print(gr_rf.best_estimator_)\n",
    "print('Best Score: ' + str(gr_rf.score(X,y)))"
   ]
  },
  {
   "cell_type": "markdown",
   "metadata": {},
   "source": [
    "Let's get our list of feature importances."
   ]
  },
  {
   "cell_type": "code",
   "execution_count": 91,
   "metadata": {},
   "outputs": [
    {
     "data": {
      "text/plain": [
       "<matplotlib.axes._subplots.AxesSubplot at 0x20d06169080>"
      ]
     },
     "execution_count": 91,
     "metadata": {},
     "output_type": "execute_result"
    },
    {
     "data": {
      "image/png": "[encoded data removed]",
      "text/plain": [
       "<matplotlib.figure.Figure at 0x20d06169710>"
      ]
     },
     "metadata": {},
     "output_type": "display_data"
    }
   ],
   "source": [
    "#Get the Feature importantces for the data\n",
    "%matplotlib inline\n",
    "feature_imp = sorted(list(zip(list(dum_train.drop(['SalePrice'], axis=1)), gr_rf.best_estimator_.feature_importances_)), key=lambda x: x[1], reverse=True)\n",
    "ls = pd.Series([x[1] for x in feature_imp], index=[x[0] for x in feature_imp])\n",
    "ls[0:20].plot(kind='bar')"
   ]
  },
  {
   "cell_type": "markdown",
   "metadata": {},
   "source": [
    "Now that we've predicted and evaluated our model we can make our predictions and submit them to Kaggle!"
   ]
  },
  {
   "cell_type": "code",
   "execution_count": 92,
   "metadata": {
    "collapsed": true
   },
   "outputs": [],
   "source": [
    "test = pd.read_csv('C:/users/Christopher Cook/Downloads/kaggle/test.csv')"
   ]
  },
  {
   "cell_type": "markdown",
   "metadata": {},
   "source": [
    "Now, we need to make sure to process our data in exactly the same way, or we might have problems. Below I've simply copied my code from above and replaced train with test, and removed references to SalePrice"
   ]
  },
  {
   "cell_type": "code",
   "execution_count": 112,
   "metadata": {},
   "outputs": [],
   "source": [
    "#convert to strings\n",
    "test['MSSubClass'] = test['MSSubClass'].apply(str)\n",
    "test['YrSold'] = test['YrSold'].apply(str)\n",
    "test['YearBuilt'] = test['YearBuilt'].apply(str)\n",
    "test['YearRemodAdd'] = test['YearRemodAdd'].apply(str)\n",
    "test['MoSold'] = test['MoSold'].apply(str)\n",
    "\n",
    "#create dict for categorical missing values i.e. missing means something\n",
    "missing_fill = {'MSSubClass' : 'None','MSZoning' : 'None', 'Alley' : 'None', 'BsmtQual' : 'None', 'BsmtCond' : 'None',  'BsmtExposure' : 'None', 'BsmtFinType1' : 'None', 'BsmtFinType2': 'None', 'Functional': 'Typ', 'FireplaceQu' : 'None', 'GarageType': 'None', 'GarageYrBlt': 'None', 'GarageFinish': 'None', 'GarageCars': 0, 'GarageQual': 'None', 'GarageCond' : 'None', 'PoolQC': 'None', 'Fence' : 'None', 'MiscFeature' : 'None'}\n",
    "\n",
    "#fill missing values with specified dict values\n",
    "test = test.fillna(missing_fill)\n",
    "\n",
    "#The other variables are missing for incedential reasons. That is I don't think that a missing value means anything. Hence, they\n",
    "#are being replaced with the variable before it.\n",
    "test = test.sample(frac=1).reset_index(drop=True)\n",
    "test = test.fillna(method='ffill')\n",
    "test = test.fillna(method='bfill')\n",
    "\n",
    "#Listing Numerical data\n",
    "numericals = {'LotFrontage', 'LotArea','MasVnrArea','BsmtFinSF1', 'BsmtFinSF2', 'BsmtUnfSF', 'TotalBsmtSF','1stFlrSF', '2ndFlrSF','LowQualFinSF','GrLivArea', 'BsmtFullBath', 'BsmtHalfBath', 'FullBath', 'HalfBath', 'BedroomAbvGr', 'KitchenAbvGr', 'TotRmsAbvGrd','Fireplaces','GarageArea','WoodDeckSF', 'OpenPorchSF', 'EnclosedPorch', '3SsnPorch', 'ScreenPorch', 'PoolArea','MiscVal','OverallQual', 'OverallCond', 'GarageCars', 'Id'}\n",
    "\n",
    "#This shouldn't be necessary but aparently it is\n",
    "test['GarageCars'] = pd.to_numeric(test['GarageCars'])\n",
    "\n",
    "#Get Dummies. Though it wasn't neccesary I removed the numericals from dummies list entirely\n",
    "dum_test = pd.get_dummies(test.drop(labels=(numericals), axis=1), drop_first=True)\n",
    "\n",
    "#Here I add a normalized version of my numerical variables\n",
    "for name in numericals:\n",
    "    if name == 'Id':\n",
    "        dum_test[name] = test[name]\n",
    "    else:\n",
    "        dum_test[name] = (test[name] - test[name].mean()) / test[name].std()"
   ]
  },
  {
   "cell_type": "markdown",
   "metadata": {},
   "source": [
    "Random tree was clearly the best model, so we will use it to predict our results on Kaggle."
   ]
  },
  {
   "cell_type": "code",
   "execution_count": 135,
   "metadata": {},
   "outputs": [
    {
     "data": {
      "text/html": [
       "<div>\n",
       "<style>\n",
       "    .dataframe thead tr:only-child th {\n",
       "        text-align: right;\n",
       "    }\n",
       "\n",
       "    .dataframe thead th {\n",
       "        text-align: left;\n",
       "    }\n",
       "\n",
       "    .dataframe tbody tr th {\n",
       "        vertical-align: top;\n",
       "    }\n",
       "</style>\n",
       "<table border=\"1\" class=\"dataframe\">\n",
       "  <thead>\n",
       "    <tr style=\"text-align: right;\">\n",
       "      <th></th>\n",
       "      <th>Id</th>\n",
       "      <th>pred</th>\n",
       "    </tr>\n",
       "  </thead>\n",
       "  <tbody>\n",
       "    <tr>\n",
       "      <th>82</th>\n",
       "      <td>1461</td>\n",
       "      <td>173820.129</td>\n",
       "    </tr>\n",
       "    <tr>\n",
       "      <th>1154</th>\n",
       "      <td>1462</td>\n",
       "      <td>187009.732</td>\n",
       "    </tr>\n",
       "    <tr>\n",
       "      <th>701</th>\n",
       "      <td>1463</td>\n",
       "      <td>170808.188</td>\n",
       "    </tr>\n",
       "    <tr>\n",
       "      <th>1438</th>\n",
       "      <td>1464</td>\n",
       "      <td>173206.396</td>\n",
       "    </tr>\n",
       "    <tr>\n",
       "      <th>511</th>\n",
       "      <td>1465</td>\n",
       "      <td>183781.284</td>\n",
       "    </tr>\n",
       "  </tbody>\n",
       "</table>\n",
       "</div>"
      ],
      "text/plain": [
       "        Id        pred\n",
       "82    1461  173820.129\n",
       "1154  1462  187009.732\n",
       "701   1463  170808.188\n",
       "1438  1464  173206.396\n",
       "511   1465  183781.284"
      ]
     },
     "execution_count": 135,
     "metadata": {},
     "output_type": "execute_result"
    }
   ],
   "source": [
    "#predicting best results\n",
    "temp1 = dum_train.drop(['SalePrice', 'Id'], axis=1)\n",
    "temp2 = dum_test.drop(['Id'], axis=1)\n",
    "\n",
    "for var in set(temp1.columns).difference(set(temp2.columns)):\n",
    "    temp2[var] = 0\n",
    "for var in set(temp2.columns).difference(set(temp1.columns)):\n",
    "    temp2 = temp2.drop([var],axis=1)\n",
    "        \n",
    "        \n",
    "dum_test['pred'] = gr_rf.predict(temp2.values)\n",
    "\n",
    "out = dum_test[['Id','pred']]\n",
    "out = out.sort_values('Id')\n",
    "\n",
    "#Denormalize Sales\n",
    "out['pred'] = out['pred'] * std + mean\n",
    "out.head(5)"
   ]
  },
  {
   "cell_type": "markdown",
   "metadata": {},
   "source": [
    "Our out dataframe looks great so we're going to save and submit to kaggle"
   ]
  },
  {
   "cell_type": "code",
   "execution_count": 136,
   "metadata": {
    "collapsed": true
   },
   "outputs": [],
   "source": [
    "out.to_csv('C:/users/Christopher Cook/Downloads/kaggle/predict.csv')"
   ]
  },
  {
   "cell_type": "code",
   "execution_count": null,
   "metadata": {
    "collapsed": true
   },
   "outputs": [],
   "source": []
  }
 ],
 "metadata": {
  "kernelspec": {
   "display_name": "Python 3",
   "language": "python",
   "name": "python3"
  },
  "language_info": {
   "codemirror_mode": {
    "name": "ipython",
    "version": 3
   },
   "file_extension": ".py",
   "mimetype": "text/x-python",
   "name": "python",
   "nbconvert_exporter": "python",
   "pygments_lexer": "ipython3",
   "version": "3.6.1"
  }
 },
 "nbformat": 4,
 "nbformat_minor": 2
}
