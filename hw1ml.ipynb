{
 "cells": [
  {
   "cell_type": "markdown",
   "metadata": {},
   "source": [
    "Christopher Cook Homework 1 Machine Learning BYU\n",
    "\n",
    "Hello! Today I'm going to open and visualize three interesting datasets. The first one comes from IPUMS usa. They've been collecting ammasing public census data that anyone can use. I've chosen a one percent sample of families from the 1900 US Census."
   ]
  },
  {
   "cell_type": "code",
   "execution_count": 1,
   "metadata": {
    "collapsed": true
   },
   "outputs": [],
   "source": [
    "import pandas as pd"
   ]
  },
  {
   "cell_type": "markdown",
   "metadata": {},
   "source": [
    "I downloaded the IPUMS data as a .dta so I'll have to use the read_stata function"
   ]
  },
  {
   "cell_type": "code",
   "execution_count": 2,
   "metadata": {},
   "outputs": [],
   "source": [
    "census = pd.read_stata('C:/Users/Christopher Cook/Downloads/census1900.dta')"
   ]
  },
  {
   "cell_type": "code",
   "execution_count": 3,
   "metadata": {},
   "outputs": [
    {
     "data": {
      "text/html": [
       "<div>\n",
       "<style>\n",
       "    .dataframe thead tr:only-child th {\n",
       "        text-align: right;\n",
       "    }\n",
       "\n",
       "    .dataframe thead th {\n",
       "        text-align: left;\n",
       "    }\n",
       "\n",
       "    .dataframe tbody tr th {\n",
       "        vertical-align: top;\n",
       "    }\n",
       "</style>\n",
       "<table border=\"1\" class=\"dataframe\">\n",
       "  <thead>\n",
       "    <tr style=\"text-align: right;\">\n",
       "      <th></th>\n",
       "      <th>year</th>\n",
       "      <th>datanum</th>\n",
       "      <th>serial</th>\n",
       "      <th>hhwt</th>\n",
       "      <th>stateicp</th>\n",
       "      <th>gq</th>\n",
       "      <th>pernum</th>\n",
       "      <th>perwt</th>\n",
       "      <th>school</th>\n",
       "      <th>occ1950</th>\n",
       "      <th>occscore</th>\n",
       "    </tr>\n",
       "  </thead>\n",
       "  <tbody>\n",
       "    <tr>\n",
       "      <th>0</th>\n",
       "      <td>1900</td>\n",
       "      <td>4</td>\n",
       "      <td>41.0</td>\n",
       "      <td>100.08</td>\n",
       "      <td>Alabama</td>\n",
       "      <td>Households under 1970 definition</td>\n",
       "      <td>1</td>\n",
       "      <td>100.08</td>\n",
       "      <td>No, not in school</td>\n",
       "      <td>Truck and tractor drivers</td>\n",
       "      <td>25</td>\n",
       "    </tr>\n",
       "    <tr>\n",
       "      <th>1</th>\n",
       "      <td>1900</td>\n",
       "      <td>4</td>\n",
       "      <td>41.0</td>\n",
       "      <td>100.08</td>\n",
       "      <td>Alabama</td>\n",
       "      <td>Households under 1970 definition</td>\n",
       "      <td>2</td>\n",
       "      <td>100.08</td>\n",
       "      <td>Yes, in school</td>\n",
       "      <td>N/A (blank)</td>\n",
       "      <td>0</td>\n",
       "    </tr>\n",
       "    <tr>\n",
       "      <th>2</th>\n",
       "      <td>1900</td>\n",
       "      <td>4</td>\n",
       "      <td>41.0</td>\n",
       "      <td>100.08</td>\n",
       "      <td>Alabama</td>\n",
       "      <td>Households under 1970 definition</td>\n",
       "      <td>3</td>\n",
       "      <td>100.08</td>\n",
       "      <td>Yes, in school</td>\n",
       "      <td>N/A (blank)</td>\n",
       "      <td>0</td>\n",
       "    </tr>\n",
       "    <tr>\n",
       "      <th>3</th>\n",
       "      <td>1900</td>\n",
       "      <td>4</td>\n",
       "      <td>41.0</td>\n",
       "      <td>100.08</td>\n",
       "      <td>Alabama</td>\n",
       "      <td>Households under 1970 definition</td>\n",
       "      <td>4</td>\n",
       "      <td>100.08</td>\n",
       "      <td>No, not in school</td>\n",
       "      <td>Elevator operators</td>\n",
       "      <td>20</td>\n",
       "    </tr>\n",
       "    <tr>\n",
       "      <th>4</th>\n",
       "      <td>1900</td>\n",
       "      <td>4</td>\n",
       "      <td>41.0</td>\n",
       "      <td>100.08</td>\n",
       "      <td>Alabama</td>\n",
       "      <td>Households under 1970 definition</td>\n",
       "      <td>5</td>\n",
       "      <td>100.08</td>\n",
       "      <td>No, not in school</td>\n",
       "      <td>Spinners, textile</td>\n",
       "      <td>18</td>\n",
       "    </tr>\n",
       "    <tr>\n",
       "      <th>5</th>\n",
       "      <td>1900</td>\n",
       "      <td>4</td>\n",
       "      <td>41.0</td>\n",
       "      <td>100.08</td>\n",
       "      <td>Alabama</td>\n",
       "      <td>Households under 1970 definition</td>\n",
       "      <td>6</td>\n",
       "      <td>100.08</td>\n",
       "      <td>No, not in school</td>\n",
       "      <td>Charwomen and cleaners</td>\n",
       "      <td>14</td>\n",
       "    </tr>\n",
       "    <tr>\n",
       "      <th>6</th>\n",
       "      <td>1900</td>\n",
       "      <td>4</td>\n",
       "      <td>41.0</td>\n",
       "      <td>100.08</td>\n",
       "      <td>Alabama</td>\n",
       "      <td>Households under 1970 definition</td>\n",
       "      <td>7</td>\n",
       "      <td>100.08</td>\n",
       "      <td>Yes, in school</td>\n",
       "      <td>N/A (blank)</td>\n",
       "      <td>0</td>\n",
       "    </tr>\n",
       "    <tr>\n",
       "      <th>7</th>\n",
       "      <td>1900</td>\n",
       "      <td>4</td>\n",
       "      <td>41.0</td>\n",
       "      <td>100.08</td>\n",
       "      <td>Alabama</td>\n",
       "      <td>Households under 1970 definition</td>\n",
       "      <td>8</td>\n",
       "      <td>100.08</td>\n",
       "      <td>Yes, in school</td>\n",
       "      <td>N/A (blank)</td>\n",
       "      <td>0</td>\n",
       "    </tr>\n",
       "    <tr>\n",
       "      <th>8</th>\n",
       "      <td>1900</td>\n",
       "      <td>4</td>\n",
       "      <td>41.0</td>\n",
       "      <td>100.08</td>\n",
       "      <td>Alabama</td>\n",
       "      <td>Households under 1970 definition</td>\n",
       "      <td>9</td>\n",
       "      <td>100.08</td>\n",
       "      <td>No, not in school</td>\n",
       "      <td>N/A (blank)</td>\n",
       "      <td>0</td>\n",
       "    </tr>\n",
       "    <tr>\n",
       "      <th>9</th>\n",
       "      <td>1900</td>\n",
       "      <td>4</td>\n",
       "      <td>141.0</td>\n",
       "      <td>100.08</td>\n",
       "      <td>Alabama</td>\n",
       "      <td>Households under 1970 definition</td>\n",
       "      <td>1</td>\n",
       "      <td>100.08</td>\n",
       "      <td>Yes, in school</td>\n",
       "      <td>Not yet classified</td>\n",
       "      <td>0</td>\n",
       "    </tr>\n",
       "  </tbody>\n",
       "</table>\n",
       "</div>"
      ],
      "text/plain": [
       "   year  datanum  serial    hhwt stateicp                                gq  \\\n",
       "0  1900        4    41.0  100.08  Alabama  Households under 1970 definition   \n",
       "1  1900        4    41.0  100.08  Alabama  Households under 1970 definition   \n",
       "2  1900        4    41.0  100.08  Alabama  Households under 1970 definition   \n",
       "3  1900        4    41.0  100.08  Alabama  Households under 1970 definition   \n",
       "4  1900        4    41.0  100.08  Alabama  Households under 1970 definition   \n",
       "5  1900        4    41.0  100.08  Alabama  Households under 1970 definition   \n",
       "6  1900        4    41.0  100.08  Alabama  Households under 1970 definition   \n",
       "7  1900        4    41.0  100.08  Alabama  Households under 1970 definition   \n",
       "8  1900        4    41.0  100.08  Alabama  Households under 1970 definition   \n",
       "9  1900        4   141.0  100.08  Alabama  Households under 1970 definition   \n",
       "\n",
       "   pernum   perwt             school                    occ1950  occscore  \n",
       "0       1  100.08  No, not in school  Truck and tractor drivers        25  \n",
       "1       2  100.08     Yes, in school                N/A (blank)         0  \n",
       "2       3  100.08     Yes, in school                N/A (blank)         0  \n",
       "3       4  100.08  No, not in school         Elevator operators        20  \n",
       "4       5  100.08  No, not in school          Spinners, textile        18  \n",
       "5       6  100.08  No, not in school     Charwomen and cleaners        14  \n",
       "6       7  100.08     Yes, in school                N/A (blank)         0  \n",
       "7       8  100.08     Yes, in school                N/A (blank)         0  \n",
       "8       9  100.08  No, not in school                N/A (blank)         0  \n",
       "9       1  100.08     Yes, in school         Not yet classified         0  "
      ]
     },
     "execution_count": 3,
     "metadata": {},
     "output_type": "execute_result"
    }
   ],
   "source": [
    "census.head(10)"
   ]
  },
  {
   "cell_type": "markdown",
   "metadata": {},
   "source": [
    "This data can help us to see what the US was like in 1900. For instance we can see the percentage of people in school by"
   ]
  },
  {
   "cell_type": "code",
   "execution_count": 4,
   "metadata": {},
   "outputs": [
    {
     "name": "stdout",
     "output_type": "stream",
     "text": [
      "count             759981\n",
      "unique                 2\n",
      "top       Yes, in school\n",
      "freq              449677\n",
      "Name: school, dtype: object\n",
      "0.591695055534\n"
     ]
    }
   ],
   "source": [
    "result = census['school'].describe()\n",
    "print (result)\n",
    "print(result['freq']/result['count'])"
   ]
  },
  {
   "cell_type": "markdown",
   "metadata": {},
   "source": [
    "Note that this percentage is much higher than we would expect for the general population. Since I have a 1% sample of families, I would expect to oversample dependants. Despite this, we can see that education was important for 1900's Americans. This suggests that almost all children were in school.\n",
    "\n",
    "We can also use this data to explore occupations."
   ]
  },
  {
   "cell_type": "code",
   "execution_count": 5,
   "metadata": {},
   "outputs": [
    {
     "name": "stdout",
     "output_type": "stream",
     "text": [
      "count          759981\n",
      "unique            238\n",
      "top       N/A (blank)\n",
      "freq           358285\n",
      "Name: occ1950, dtype: object\n"
     ]
    }
   ],
   "source": [
    "result = census['occ1950'].describe()\n",
    "print(result)"
   ]
  },
  {
   "cell_type": "markdown",
   "metadata": {},
   "source": [
    "We can see that there are 238 unique occupations, the most common of which is blank. This makes sense, as most of our sample is going to school. In fact let's explore that:"
   ]
  },
  {
   "cell_type": "code",
   "execution_count": 6,
   "metadata": {},
   "outputs": [
    {
     "name": "stdout",
     "output_type": "stream",
     "text": [
      "           datanum        serial          hhwt        pernum         perwt  \\\n",
      "datanum        NaN           NaN           NaN           NaN           NaN   \n",
      "serial         NaN  1.000000e+00  3.544271e-13  1.186789e-02  3.544271e-13   \n",
      "hhwt           NaN  3.544271e-13  1.000000e+00 -8.508261e-14  1.000000e+00   \n",
      "pernum         NaN  1.186789e-02 -8.508261e-14  1.000000e+00 -8.508261e-14   \n",
      "perwt          NaN  3.544271e-13  1.000000e+00 -8.508261e-14  1.000000e+00   \n",
      "occscore       NaN -1.346344e-03  4.222617e-14 -1.679467e-01  4.222617e-14   \n",
      "blank_occ      NaN  1.071978e-02 -9.609727e-14  8.467443e-02 -9.609727e-14   \n",
      "in_school      NaN  6.023148e-03  4.769329e-14  8.564297e-02  4.769329e-14   \n",
      "\n",
      "               occscore     blank_occ     in_school  \n",
      "datanum             NaN           NaN           NaN  \n",
      "serial    -1.346344e-03  1.071978e-02  6.023148e-03  \n",
      "hhwt       4.222617e-14 -9.609727e-14  4.769329e-14  \n",
      "pernum    -1.679467e-01  8.467443e-02  8.564297e-02  \n",
      "perwt      4.222617e-14 -9.609727e-14  4.769329e-14  \n",
      "occscore   1.000000e+00 -5.708978e-01 -1.710093e-01  \n",
      "blank_occ -5.708978e-01  1.000000e+00 -1.041177e-02  \n",
      "in_school -1.710093e-01 -1.041177e-02  1.000000e+00  \n"
     ]
    }
   ],
   "source": [
    "census['blank_occ'] = census['occ1950'] == 'N/A (blank)'\n",
    "census['in_school'] = census['school'] == 'Yes, in school'\n",
    "print(census.corr())\n"
   ]
  },
  {
   "cell_type": "markdown",
   "metadata": {},
   "source": [
    "As we can see, being in school and having a blank occupation are actually negatively correlated. Thus it's more common for students to be listed as students than nothing, or/and that blank occupation people include people from all walks of life--not just students.\n",
    "\n",
    "Interestingly we can see that having a higher occupation score is associated with not being in school. This come from the obvious fact that providers, with actual, real, jobs, are no longer in school. \n",
    "\n",
    "With more variables and time, I could perform some meatier analysis, but this will suffice for now. We move on to my second dataset, a list of all proposed ammendments to the constitution. It comes as a csv"
   ]
  },
  {
   "cell_type": "code",
   "execution_count": 7,
   "metadata": {},
   "outputs": [
    {
     "data": {
      "text/html": [
       "<div>\n",
       "<style>\n",
       "    .dataframe thead tr:only-child th {\n",
       "        text-align: right;\n",
       "    }\n",
       "\n",
       "    .dataframe thead th {\n",
       "        text-align: left;\n",
       "    }\n",
       "\n",
       "    .dataframe tbody tr th {\n",
       "        vertical-align: top;\n",
       "    }\n",
       "</style>\n",
       "<table border=\"1\" class=\"dataframe\">\n",
       "  <thead>\n",
       "    <tr style=\"text-align: right;\">\n",
       "      <th></th>\n",
       "      <th>identifier</th>\n",
       "      <th>source_code</th>\n",
       "      <th>source_citation</th>\n",
       "      <th>source_index_number</th>\n",
       "      <th>title_or_description_from_source</th>\n",
       "      <th>date_approximation</th>\n",
       "      <th>year</th>\n",
       "      <th>month</th>\n",
       "      <th>day</th>\n",
       "      <th>congress</th>\n",
       "      <th>congressional_session</th>\n",
       "      <th>joint_resolution_chamber</th>\n",
       "      <th>joint_resolution_number</th>\n",
       "      <th>sponsor_name</th>\n",
       "      <th>sponsor_state_or_territory</th>\n",
       "      <th>committee_of_referral</th>\n",
       "    </tr>\n",
       "  </thead>\n",
       "  <tbody>\n",
       "    <tr>\n",
       "      <th>0</th>\n",
       "      <td>us-nara-amending-america-000001</td>\n",
       "      <td>A</td>\n",
       "      <td>Ames, Herman V. The Proposed Amendments to the...</td>\n",
       "      <td>1</td>\n",
       "      <td>Reservation of nondelegated powers</td>\n",
       "      <td>circa</td>\n",
       "      <td>1788.0</td>\n",
       "      <td>NaN</td>\n",
       "      <td>NaN</td>\n",
       "      <td>NaN</td>\n",
       "      <td>NaN</td>\n",
       "      <td>NaN</td>\n",
       "      <td>NaN</td>\n",
       "      <td>NaN</td>\n",
       "      <td>NaN</td>\n",
       "      <td>NaN</td>\n",
       "    </tr>\n",
       "    <tr>\n",
       "      <th>1</th>\n",
       "      <td>us-nara-amending-america-000002</td>\n",
       "      <td>A</td>\n",
       "      <td>Ames, Herman V. The Proposed Amendments to the...</td>\n",
       "      <td>2</td>\n",
       "      <td>Apportionment of Representatives</td>\n",
       "      <td>circa</td>\n",
       "      <td>1788.0</td>\n",
       "      <td>NaN</td>\n",
       "      <td>NaN</td>\n",
       "      <td>NaN</td>\n",
       "      <td>NaN</td>\n",
       "      <td>NaN</td>\n",
       "      <td>NaN</td>\n",
       "      <td>NaN</td>\n",
       "      <td>NaN</td>\n",
       "      <td>NaN</td>\n",
       "    </tr>\n",
       "    <tr>\n",
       "      <th>2</th>\n",
       "      <td>us-nara-amending-america-000003</td>\n",
       "      <td>A</td>\n",
       "      <td>Ames, Herman V. The Proposed Amendments to the...</td>\n",
       "      <td>3</td>\n",
       "      <td>Restriction on Federal control over election o...</td>\n",
       "      <td>circa</td>\n",
       "      <td>1788.0</td>\n",
       "      <td>NaN</td>\n",
       "      <td>NaN</td>\n",
       "      <td>NaN</td>\n",
       "      <td>NaN</td>\n",
       "      <td>NaN</td>\n",
       "      <td>NaN</td>\n",
       "      <td>NaN</td>\n",
       "      <td>NaN</td>\n",
       "      <td>NaN</td>\n",
       "    </tr>\n",
       "    <tr>\n",
       "      <th>3</th>\n",
       "      <td>us-nara-amending-america-000004</td>\n",
       "      <td>A</td>\n",
       "      <td>Ames, Herman V. The Proposed Amendments to the...</td>\n",
       "      <td>4</td>\n",
       "      <td>Restriction upon the levying of direct taxes</td>\n",
       "      <td>circa</td>\n",
       "      <td>1788.0</td>\n",
       "      <td>NaN</td>\n",
       "      <td>NaN</td>\n",
       "      <td>NaN</td>\n",
       "      <td>NaN</td>\n",
       "      <td>NaN</td>\n",
       "      <td>NaN</td>\n",
       "      <td>NaN</td>\n",
       "      <td>NaN</td>\n",
       "      <td>NaN</td>\n",
       "    </tr>\n",
       "    <tr>\n",
       "      <th>4</th>\n",
       "      <td>us-nara-amending-america-000005</td>\n",
       "      <td>A</td>\n",
       "      <td>Ames, Herman V. The Proposed Amendments to the...</td>\n",
       "      <td>5</td>\n",
       "      <td>Commercial monopolies prohibited</td>\n",
       "      <td>circa</td>\n",
       "      <td>1788.0</td>\n",
       "      <td>NaN</td>\n",
       "      <td>NaN</td>\n",
       "      <td>NaN</td>\n",
       "      <td>NaN</td>\n",
       "      <td>NaN</td>\n",
       "      <td>NaN</td>\n",
       "      <td>NaN</td>\n",
       "      <td>NaN</td>\n",
       "      <td>NaN</td>\n",
       "    </tr>\n",
       "    <tr>\n",
       "      <th>5</th>\n",
       "      <td>us-nara-amending-america-000006</td>\n",
       "      <td>A</td>\n",
       "      <td>Ames, Herman V. The Proposed Amendments to the...</td>\n",
       "      <td>6</td>\n",
       "      <td>Indictment by grand jury</td>\n",
       "      <td>circa</td>\n",
       "      <td>1788.0</td>\n",
       "      <td>NaN</td>\n",
       "      <td>NaN</td>\n",
       "      <td>NaN</td>\n",
       "      <td>NaN</td>\n",
       "      <td>NaN</td>\n",
       "      <td>NaN</td>\n",
       "      <td>NaN</td>\n",
       "      <td>NaN</td>\n",
       "      <td>NaN</td>\n",
       "    </tr>\n",
       "  </tbody>\n",
       "</table>\n",
       "</div>"
      ],
      "text/plain": [
       "                        identifier source_code  \\\n",
       "0  us-nara-amending-america-000001           A   \n",
       "1  us-nara-amending-america-000002           A   \n",
       "2  us-nara-amending-america-000003           A   \n",
       "3  us-nara-amending-america-000004           A   \n",
       "4  us-nara-amending-america-000005           A   \n",
       "5  us-nara-amending-america-000006           A   \n",
       "\n",
       "                                     source_citation source_index_number  \\\n",
       "0  Ames, Herman V. The Proposed Amendments to the...                   1   \n",
       "1  Ames, Herman V. The Proposed Amendments to the...                   2   \n",
       "2  Ames, Herman V. The Proposed Amendments to the...                   3   \n",
       "3  Ames, Herman V. The Proposed Amendments to the...                   4   \n",
       "4  Ames, Herman V. The Proposed Amendments to the...                   5   \n",
       "5  Ames, Herman V. The Proposed Amendments to the...                   6   \n",
       "\n",
       "                    title_or_description_from_source date_approximation  \\\n",
       "0                 Reservation of nondelegated powers              circa   \n",
       "1                   Apportionment of Representatives              circa   \n",
       "2  Restriction on Federal control over election o...              circa   \n",
       "3       Restriction upon the levying of direct taxes              circa   \n",
       "4                   Commercial monopolies prohibited              circa   \n",
       "5                           Indictment by grand jury              circa   \n",
       "\n",
       "     year  month  day  congress congressional_session  \\\n",
       "0  1788.0    NaN  NaN       NaN                   NaN   \n",
       "1  1788.0    NaN  NaN       NaN                   NaN   \n",
       "2  1788.0    NaN  NaN       NaN                   NaN   \n",
       "3  1788.0    NaN  NaN       NaN                   NaN   \n",
       "4  1788.0    NaN  NaN       NaN                   NaN   \n",
       "5  1788.0    NaN  NaN       NaN                   NaN   \n",
       "\n",
       "  joint_resolution_chamber  joint_resolution_number sponsor_name  \\\n",
       "0                      NaN                      NaN          NaN   \n",
       "1                      NaN                      NaN          NaN   \n",
       "2                      NaN                      NaN          NaN   \n",
       "3                      NaN                      NaN          NaN   \n",
       "4                      NaN                      NaN          NaN   \n",
       "5                      NaN                      NaN          NaN   \n",
       "\n",
       "  sponsor_state_or_territory committee_of_referral  \n",
       "0                        NaN                   NaN  \n",
       "1                        NaN                   NaN  \n",
       "2                        NaN                   NaN  \n",
       "3                        NaN                   NaN  \n",
       "4                        NaN                   NaN  \n",
       "5                        NaN                   NaN  "
      ]
     },
     "execution_count": 7,
     "metadata": {},
     "output_type": "execute_result"
    }
   ],
   "source": [
    "ammend = pd.read_csv('C:/Users/Christopher Cook/Downloads/Proposed_Amendments_from_1787-2014.csv')\n",
    "ammend.head(6)"
   ]
  },
  {
   "cell_type": "markdown",
   "metadata": {},
   "source": [
    "This allows us to see the frequency of US ammendments across time."
   ]
  },
  {
   "cell_type": "code",
   "execution_count": 8,
   "metadata": {
    "collapsed": true
   },
   "outputs": [],
   "source": [
    "import matplotlib.pyplot as plt\n",
    "import numpy as np"
   ]
  },
  {
   "cell_type": "code",
   "execution_count": 9,
   "metadata": {},
   "outputs": [
    {
     "name": "stdout",
     "output_type": "stream",
     "text": [
      "count    11792.000000\n",
      "mean      1942.255597\n",
      "std         51.634764\n",
      "min       1788.000000\n",
      "25%       1919.000000\n",
      "50%       1963.000000\n",
      "75%       1975.000000\n",
      "max       2014.000000\n",
      "Name: year, dtype: float64\n"
     ]
    }
   ],
   "source": [
    "print(ammend['year'].describe())\n",
    "\n"
   ]
  },
  {
   "cell_type": "markdown",
   "metadata": {},
   "source": [
    "We can also find out the average number of ammendements per year, and the standard deviation per year"
   ]
  },
  {
   "cell_type": "code",
   "execution_count": 10,
   "metadata": {},
   "outputs": [],
   "source": [
    "years = {}\n",
    "for x in range(1776, 2017):\n",
    "    years[x] = 0\n",
    "\n",
    "for index, row in ammend.iterrows():\n",
    "    if row['year'] in years:\n",
    "        years[row['year']] += 1\n",
    "    else:\n",
    "        years[row['year']] = 1  \n",
    "years = pd.DataFrame(years, index=range(0,1))\n"
   ]
  },
  {
   "cell_type": "code",
   "execution_count": 11,
   "metadata": {},
   "outputs": [
    {
     "data": {
      "text/html": [
       "<div>\n",
       "<style>\n",
       "    .dataframe thead tr:only-child th {\n",
       "        text-align: right;\n",
       "    }\n",
       "\n",
       "    .dataframe thead th {\n",
       "        text-align: left;\n",
       "    }\n",
       "\n",
       "    .dataframe tbody tr th {\n",
       "        vertical-align: top;\n",
       "    }\n",
       "</style>\n",
       "<table border=\"1\" class=\"dataframe\">\n",
       "  <thead>\n",
       "    <tr style=\"text-align: right;\">\n",
       "      <th></th>\n",
       "      <th>0</th>\n",
       "    </tr>\n",
       "  </thead>\n",
       "  <tbody>\n",
       "    <tr>\n",
       "      <th>count</th>\n",
       "      <td>246.000000</td>\n",
       "    </tr>\n",
       "    <tr>\n",
       "      <th>mean</th>\n",
       "      <td>47.955285</td>\n",
       "    </tr>\n",
       "    <tr>\n",
       "      <th>std</th>\n",
       "      <td>79.891521</td>\n",
       "    </tr>\n",
       "    <tr>\n",
       "      <th>min</th>\n",
       "      <td>0.000000</td>\n",
       "    </tr>\n",
       "    <tr>\n",
       "      <th>25%</th>\n",
       "      <td>7.000000</td>\n",
       "    </tr>\n",
       "    <tr>\n",
       "      <th>50%</th>\n",
       "      <td>20.000000</td>\n",
       "    </tr>\n",
       "    <tr>\n",
       "      <th>75%</th>\n",
       "      <td>51.750000</td>\n",
       "    </tr>\n",
       "    <tr>\n",
       "      <th>max</th>\n",
       "      <td>616.000000</td>\n",
       "    </tr>\n",
       "  </tbody>\n",
       "</table>\n",
       "</div>"
      ],
      "text/plain": [
       "                0\n",
       "count  246.000000\n",
       "mean    47.955285\n",
       "std     79.891521\n",
       "min      0.000000\n",
       "25%      7.000000\n",
       "50%     20.000000\n",
       "75%     51.750000\n",
       "max    616.000000"
      ]
     },
     "execution_count": 11,
     "metadata": {},
     "output_type": "execute_result"
    }
   ],
   "source": [
    "years.transpose().describe()"
   ]
  },
  {
   "cell_type": "markdown",
   "metadata": {},
   "source": [
    "So, on average there have been 48 ammendments per year, with a standard deviation of 80! Apparently there was one year where there were 616 ammendments proposed! That's a lot of ammendments."
   ]
  },
  {
   "cell_type": "markdown",
   "metadata": {},
   "source": [
    "I could do some text analysis on the kinds of ammendments getting proposed, but I'll leave that to my final dataset, a bunch of jokes!"
   ]
  },
  {
   "cell_type": "code",
   "execution_count": 12,
   "metadata": {},
   "outputs": [],
   "source": [
    "import json\n",
    "with open('C:/Users/Christopher Cook/Downloads/jay.txt') as f:\n",
    "    jokes = json.load(f)\n",
    "    "
   ]
  },
  {
   "cell_type": "code",
   "execution_count": 13,
   "metadata": {},
   "outputs": [
    {
     "data": {
      "text/plain": [
       "dict_keys(['id', 'joke', 'categories'])"
      ]
     },
     "execution_count": 13,
     "metadata": {},
     "output_type": "execute_result"
    }
   ],
   "source": [
    "jokes['value'][0].keys()\n"
   ]
  },
  {
   "cell_type": "markdown",
   "metadata": {},
   "source": [
    "Since I've managed to load this json, let's see if we can get it into a dataframe\n"
   ]
  },
  {
   "cell_type": "code",
   "execution_count": 14,
   "metadata": {},
   "outputs": [],
   "source": [
    "dfj = pd.DataFrame(jokes['value'])"
   ]
  },
  {
   "cell_type": "code",
   "execution_count": 15,
   "metadata": {},
   "outputs": [
    {
     "data": {
      "text/html": [
       "<div>\n",
       "<style>\n",
       "    .dataframe thead tr:only-child th {\n",
       "        text-align: right;\n",
       "    }\n",
       "\n",
       "    .dataframe thead th {\n",
       "        text-align: left;\n",
       "    }\n",
       "\n",
       "    .dataframe tbody tr th {\n",
       "        vertical-align: top;\n",
       "    }\n",
       "</style>\n",
       "<table border=\"1\" class=\"dataframe\">\n",
       "  <thead>\n",
       "    <tr style=\"text-align: right;\">\n",
       "      <th></th>\n",
       "      <th>categories</th>\n",
       "      <th>id</th>\n",
       "      <th>joke</th>\n",
       "    </tr>\n",
       "  </thead>\n",
       "  <tbody>\n",
       "    <tr>\n",
       "      <th>0</th>\n",
       "      <td>[]</td>\n",
       "      <td>335</td>\n",
       "      <td>Chuck Norris likes his coffee half and half: h...</td>\n",
       "    </tr>\n",
       "    <tr>\n",
       "      <th>1</th>\n",
       "      <td>[]</td>\n",
       "      <td>21</td>\n",
       "      <td>Chuck Norris doesn't shower, he only takes blo...</td>\n",
       "    </tr>\n",
       "    <tr>\n",
       "      <th>2</th>\n",
       "      <td>[]</td>\n",
       "      <td>531</td>\n",
       "      <td>Jesus can walk on water, but Chuck Norris can ...</td>\n",
       "    </tr>\n",
       "    <tr>\n",
       "      <th>3</th>\n",
       "      <td>[]</td>\n",
       "      <td>347</td>\n",
       "      <td>Some people ask for a Kleenex when they sneeze...</td>\n",
       "    </tr>\n",
       "    <tr>\n",
       "      <th>4</th>\n",
       "      <td>[]</td>\n",
       "      <td>358</td>\n",
       "      <td>The 11th commandment is ?Thou shalt not piss o...</td>\n",
       "    </tr>\n",
       "  </tbody>\n",
       "</table>\n",
       "</div>"
      ],
      "text/plain": [
       "  categories   id                                               joke\n",
       "0         []  335  Chuck Norris likes his coffee half and half: h...\n",
       "1         []   21  Chuck Norris doesn't shower, he only takes blo...\n",
       "2         []  531  Jesus can walk on water, but Chuck Norris can ...\n",
       "3         []  347  Some people ask for a Kleenex when they sneeze...\n",
       "4         []  358  The 11th commandment is ?Thou shalt not piss o..."
      ]
     },
     "execution_count": 15,
     "metadata": {},
     "output_type": "execute_result"
    }
   ],
   "source": [
    "dfj.head(5)"
   ]
  },
  {
   "cell_type": "markdown",
   "metadata": {},
   "source": [
    "We can now conduct frivolous analysis on this dataset. For example, what is joke number 21?"
   ]
  },
  {
   "cell_type": "code",
   "execution_count": 16,
   "metadata": {},
   "outputs": [
    {
     "data": {
      "text/plain": [
       "\"Chuck Norris' house has no doors, only walls that he walks through.\""
      ]
     },
     "execution_count": 16,
     "metadata": {},
     "output_type": "execute_result"
    }
   ],
   "source": [
    "dfj.at[21,'joke']"
   ]
  },
  {
   "cell_type": "markdown",
   "metadata": {},
   "source": [
    "Let's see... How many characters, is the average joke?"
   ]
  },
  {
   "cell_type": "code",
   "execution_count": 17,
   "metadata": {},
   "outputs": [
    {
     "data": {
      "text/plain": [
       "count     31.000000\n",
       "mean      91.419355\n",
       "std       37.896151\n",
       "min       40.000000\n",
       "25%       63.500000\n",
       "50%       83.000000\n",
       "75%      113.000000\n",
       "max      211.000000\n",
       "Name: length, dtype: float64"
      ]
     },
     "execution_count": 17,
     "metadata": {},
     "output_type": "execute_result"
    }
   ],
   "source": [
    "dfj['length'] = dfj['joke'].str.len()\n",
    "dfj['length'].describe()"
   ]
  },
  {
   "cell_type": "markdown",
   "metadata": {},
   "source": [
    "What about number of words?"
   ]
  },
  {
   "cell_type": "code",
   "execution_count": 18,
   "metadata": {
    "collapsed": true
   },
   "outputs": [],
   "source": [
    "dfj['words'] = dfj['joke'].str.split()"
   ]
  },
  {
   "cell_type": "code",
   "execution_count": 19,
   "metadata": {},
   "outputs": [
    {
     "data": {
      "text/plain": [
       "count    31.000000\n",
       "mean     16.225806\n",
       "std       7.050814\n",
       "min       6.000000\n",
       "25%      12.000000\n",
       "50%      15.000000\n",
       "75%      20.000000\n",
       "max      39.000000\n",
       "Name: num_words, dtype: float64"
      ]
     },
     "execution_count": 19,
     "metadata": {},
     "output_type": "execute_result"
    }
   ],
   "source": [
    "dfj['num_words'] = dfj['words'].str.len()\n",
    "dfj['num_words'].describe()"
   ]
  },
  {
   "cell_type": "markdown",
   "metadata": {},
   "source": [
    "We can even look at average word length"
   ]
  },
  {
   "cell_type": "code",
   "execution_count": 20,
   "metadata": {},
   "outputs": [
    {
     "data": {
      "text/plain": [
       "count    31.000000\n",
       "mean      5.753256\n",
       "std       0.783032\n",
       "min       4.705882\n",
       "25%       5.333333\n",
       "50%       5.600000\n",
       "75%       6.021739\n",
       "max       8.714286\n",
       "Name: avg_len, dtype: float64"
      ]
     },
     "execution_count": 20,
     "metadata": {},
     "output_type": "execute_result"
    }
   ],
   "source": [
    "dfj['avg_len'] = dfj['length'] / dfj['num_words']\n",
    "dfj['avg_len'].describe()"
   ]
  },
  {
   "cell_type": "markdown",
   "metadata": {},
   "source": [
    "Though this kind of analysis won't tell us how funny a joke is, we can go through and mark them as either funny or not, which could potentially be used for as a machine learning training set"
   ]
  }
 ],
 "metadata": {
  "kernelspec": {
   "display_name": "Python 3",
   "language": "python",
   "name": "python3"
  },
  "language_info": {
   "codemirror_mode": {
    "name": "ipython",
    "version": 3
   },
   "file_extension": ".py",
   "mimetype": "text/x-python",
   "name": "python",
   "nbconvert_exporter": "python",
   "pygments_lexer": "ipython3",
   "version": "3.6.1"
  }
 },
 "nbformat": 4,
 "nbformat_minor": 2
}
